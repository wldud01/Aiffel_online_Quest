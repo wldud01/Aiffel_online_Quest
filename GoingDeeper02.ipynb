{
 "cells": [
  {
   "cell_type": "markdown",
   "id": "5152b38e",
   "metadata": {},
   "source": [
    "## 뉴스 카테고리 다중분류\n",
    "- 3가지 단어 개수에 대해 8가지 머신러닝 기법을 적용하여 그중 최적의 솔루션을 도출하였다.\n",
    "- Vocabulary size에 따른 각 머신러닝 모델의 성능변화 추이를 살피고, 해당 머신러닝 알고리즘의 특성에 근거해 원인을 분석하였다.\n",
    "- 동일한 데이터셋과 전처리 조건으로 딥러닝 모델의 성능과 비교하여 결과에 따른 원인을 분석하였다."
   ]
  },
  {
   "cell_type": "code",
   "execution_count": 1,
   "id": "693586e3",
   "metadata": {},
   "outputs": [],
   "source": [
    "# 모듈 불러오기  \n",
    "import tensorflow\n",
    "import tensorflow as tf\n",
    "import seaborn as sns\n",
    "import numpy as np\n",
    "import pandas as pd\n",
    "import sklearn\n",
    "from tensorflow.keras.datasets import reuters\n",
    "import matplotlib.pyplot as plt"
   ]
  },
  {
   "cell_type": "markdown",
   "id": "f262cc5e",
   "metadata": {},
   "source": [
    "- 사용 데이터\n",
    "    - 로이터 뉴스 데이터\n",
    "    - 클래스 46개\n",
    "    - 해당 뉴스가 어느 카테고리에 예측하기 위한 데이터\n",
    "    - tensorflow.keras.datasets"
   ]
  },
  {
   "cell_type": "markdown",
   "id": "2978b707",
   "metadata": {},
   "source": [
    "### 1. 모든 단어 사용"
   ]
  },
  {
   "cell_type": "code",
   "execution_count": 84,
   "id": "6d465511",
   "metadata": {},
   "outputs": [],
   "source": [
    "# 모든 단어를 사용하는 경우\n",
    "(x_train_all, y_train_all), (x_test_all, y_test_all) = reuters.load_data(num_words=None, test_split=0.2)"
   ]
  },
  {
   "cell_type": "markdown",
   "id": "0bb69d70",
   "metadata": {},
   "source": [
    "### 2. 빈도수 상위 5,000개의 단어만 사용"
   ]
  },
  {
   "cell_type": "code",
   "execution_count": 85,
   "id": "5b13941a",
   "metadata": {},
   "outputs": [],
   "source": [
    "# 빈도수 상위 5,000개의 단어만 사용하는 경우\n",
    "(x_train_5000, y_train_5000), (x_test_5000, y_test_5000) = reuters.load_data(num_words=5000, test_split=0.2)"
   ]
  },
  {
   "cell_type": "markdown",
   "id": "b5b7fdf7",
   "metadata": {},
   "source": [
    "### 3. 직접 단어 개수를 설정해서 사용\n",
    " - 최소 3가지 경우 이상을 실험해 보기를 권합니다."
   ]
  },
  {
   "cell_type": "code",
   "execution_count": 228,
   "id": "8458c9e4",
   "metadata": {},
   "outputs": [],
   "source": [
    "# 10000\n",
    "(x_train_10000, y_train_10000), (x_test_10000, y_test_10000) = reuters.load_data(num_words=10000, test_split=0.2)"
   ]
  },
  {
   "cell_type": "code",
   "execution_count": 87,
   "id": "43230e82",
   "metadata": {},
   "outputs": [],
   "source": [
    "# 20000\n",
    "(x_train_20000, y_train_20000), (x_test_20000, y_test_20000) = reuters.load_data(num_words=20000, test_split=0.2)"
   ]
  },
  {
   "cell_type": "code",
   "execution_count": 16,
   "id": "e38894dd",
   "metadata": {},
   "outputs": [
    {
     "name": "stdout",
     "output_type": "stream",
     "text": [
      "훈련 샘플의 수: 8982\n",
      "테스트 샘플의 수: 2246\n"
     ]
    }
   ],
   "source": [
    "print('훈련 샘플의 수: {}'.format(len(x_train_all)))\n",
    "print('테스트 샘플의 수: {}'.format(len(x_test_all)))"
   ]
  },
  {
   "cell_type": "code",
   "execution_count": 18,
   "id": "d428641a",
   "metadata": {},
   "outputs": [
    {
     "name": "stdout",
     "output_type": "stream",
     "text": [
      "[1, 27595, 28842, 8, 43, 10, 447, 5, 25, 207, 270, 5, 3095, 111, 16, 369, 186, 90, 67, 7, 89, 5, 19, 102, 6, 19, 124, 15, 90, 67, 84, 22, 482, 26, 7, 48, 4, 49, 8, 864, 39, 209, 154, 6, 151, 6, 83, 11, 15, 22, 155, 11, 15, 7, 48, 9, 4579, 1005, 504, 6, 258, 6, 272, 11, 15, 22, 134, 44, 11, 15, 16, 8, 197, 1245, 90, 67, 52, 29, 209, 30, 32, 132, 6, 109, 15, 17, 12]\n",
      "[1, 27595, 28842, 8, 43, 10, 447, 5, 25, 207, 270, 5, 3095, 111, 16, 369, 186, 90, 67, 7, 89, 5, 19, 102, 6, 19, 124, 15, 90, 67, 84, 22, 482, 26, 7, 48, 4, 49, 8, 864, 39, 209, 154, 6, 151, 6, 83, 11, 15, 22, 155, 11, 15, 7, 48, 9, 4579, 1005, 504, 6, 258, 6, 272, 11, 15, 22, 134, 44, 11, 15, 16, 8, 197, 1245, 90, 67, 52, 29, 209, 30, 32, 132, 6, 109, 15, 17, 12]\n"
     ]
    }
   ],
   "source": [
    "# 정수 레이블 출력\n",
    "print(x_train_all[0])\n",
    "print(x_train_all[0])"
   ]
  },
  {
   "cell_type": "code",
   "execution_count": 19,
   "id": "b2291851",
   "metadata": {},
   "outputs": [
    {
     "name": "stdout",
     "output_type": "stream",
     "text": [
      "클래스의 수 : 46\n"
     ]
    }
   ],
   "source": [
    "# 클래스 수 출력\n",
    "num_classes = max(y_train_all) + 1\n",
    "print('클래스의 수 : {}'.format(num_classes))"
   ]
  },
  {
   "cell_type": "code",
   "execution_count": 20,
   "id": "3133c703",
   "metadata": {},
   "outputs": [
    {
     "name": "stdout",
     "output_type": "stream",
     "text": [
      "훈련용 뉴스의 최대 길이 :2376\n",
      "훈련용 뉴스의 평균 길이 :145.5398574927633\n"
     ]
    },
    {
     "data": {
      "image/png": "[encoded data removed]",
      "text/plain": [
       "<Figure size 432x288 with 1 Axes>"
      ]
     },
     "metadata": {
      "needs_background": "light"
     },
     "output_type": "display_data"
    }
   ],
   "source": [
    "# 데이터 분포 확인하기\n",
    "print('훈련용 뉴스의 최대 길이 :{}'.format(max(len(l) for l in x_train_all)))\n",
    "print('훈련용 뉴스의 평균 길이 :{}'.format(sum(map(len, x_train_all))/len(x_train_all)))\n",
    "\n",
    "plt.hist([len(s) for s in x_train_all], bins=50)\n",
    "plt.xlabel('length of samples')\n",
    "plt.ylabel('number of samples')\n",
    "plt.show()"
   ]
  },
  {
   "cell_type": "markdown",
   "id": "3daa66ae",
   "metadata": {},
   "source": [
    "- 길이가 가장 긴 뉴스의 길이는 2,376\n",
    "- 평균 길이는 145\n",
    "- 시각화된 그래프의 분포로 봤을 때 500~1,000 사이의 길이"
   ]
  },
  {
   "cell_type": "code",
   "execution_count": 21,
   "id": "d35c5777",
   "metadata": {},
   "outputs": [
    {
     "data": {
      "image/png": "[encoded data removed]",
      "text/plain": [
       "<Figure size 792x360 with 1 Axes>"
      ]
     },
     "metadata": {
      "needs_background": "light"
     },
     "output_type": "display_data"
    }
   ],
   "source": [
    "fig, axe = plt.subplots(ncols=1)\n",
    "fig.set_size_inches(11,5)\n",
    "sns.countplot(x=y_train_all)\n",
    "plt.show()"
   ]
  },
  {
   "cell_type": "markdown",
   "id": "6382ec5f",
   "metadata": {},
   "source": [
    "-  뉴스 데이터는 3번, 4번 클래스가 대부분을 차지\n",
    "-  19번, 16번, 1번, 11번 등이 높은 분포"
   ]
  },
  {
   "cell_type": "code",
   "execution_count": 229,
   "id": "0e430fca",
   "metadata": {},
   "outputs": [
    {
     "name": "stdout",
     "output_type": "stream",
     "text": [
      "각 클래스 빈도수:\n",
      "[[   0    1    2    3    4    5    6    7    8    9   10   11   12   13\n",
      "    14   15   16   17   18   19   20   21   22   23   24   25   26   27\n",
      "    28   29   30   31   32   33   34   35   36   37   38   39   40   41\n",
      "    42   43   44   45]\n",
      " [  55  432   74 3159 1949   17   48   16  139  101  124  390   49  172\n",
      "    26   20  444   39   66  549  269  100   15   41   62   92   24   15\n",
      "    48   19   45   39   32   11   50   10   49   19   19   24   36   30\n",
      "    13   21   12   18]]\n"
     ]
    }
   ],
   "source": [
    "# 각 클래스 빈도수 출력\n",
    "unique_elements, counts_elements = np.unique(y_train_all, return_counts=True)\n",
    "print(\"각 클래스 빈도수:\")\n",
    "print(np.asarray((unique_elements, counts_elements)))"
   ]
  },
  {
   "cell_type": "markdown",
   "id": "d0959abb",
   "metadata": {},
   "source": [
    "- 3번, 4번 클래스의 경우에는 각각 3,159개와 1,949개가 존재\n",
    "- 9번 클래스가 549개"
   ]
  },
  {
   "cell_type": "code",
   "execution_count": 230,
   "id": "20713b28",
   "metadata": {},
   "outputs": [],
   "source": [
    "# 단어장 생성\n",
    "word_index = reuters.get_word_index(path=\"reuters_word_index.json\")"
   ]
  },
  {
   "cell_type": "markdown",
   "id": "e56a8a9b",
   "metadata": {},
   "source": [
    "- 로이터 뉴스 데이터는 '단어'를 key값으로, 고유한 '정수'를 value로 가지는 dictionary를 제공한다\n",
    "- 이 데이터의 단어장(Vocabulary)"
   ]
  },
  {
   "cell_type": "code",
   "execution_count": 231,
   "id": "f55515ba",
   "metadata": {},
   "outputs": [
    {
     "name": "stdout",
     "output_type": "stream",
     "text": [
      "1\n",
      "7\n"
     ]
    }
   ],
   "source": [
    "print(word_index['the'])\n",
    "print(word_index['a'])"
   ]
  },
  {
   "cell_type": "code",
   "execution_count": 232,
   "id": "4e4b57ec",
   "metadata": {},
   "outputs": [],
   "source": [
    "def word_to_index(word_to_index):\n",
    "    # 실제 인코딩 인덱스는 제공된 word_to_index 기준으로 3씩 뒤로 밀려 있다\n",
    "    word_to_index ={k:(v+3) for k,v in word_to_index.items()}\n",
    "\n",
    "    # Hannanum\n",
    "    # 처음 몇개의 인덱스는 사전 정의\n",
    "    word_to_index[\"<PAD>\"] = 0\n",
    "    word_to_index[\"<BOS>\"] = 1\n",
    "    word_to_index[\"<UNK>\"] = 2\n",
    "    word_to_index[\"<UNUSED>\"] = 3\n",
    "    index_to_word = {index:word for word, index in word_to_index.items()}\n",
    "    \n",
    "    return word_to_index"
   ]
  },
  {
   "cell_type": "code",
   "execution_count": 233,
   "id": "fc461abc",
   "metadata": {},
   "outputs": [],
   "source": [
    "word_to_index= word_to_index(word_index)"
   ]
  },
  {
   "cell_type": "markdown",
   "id": "67b8d6d1",
   "metadata": {},
   "source": [
    "- 수치 데이터를 텍스트 데이터로 돌리기 위한 index to word 생성\n",
    "- < pad >, < sos >, < unk > 라는 토큰이  0번, 1번, 2번에 매핑된 번호이기 때문에 index to word를 만들 때 3을 더해주어야 한다"
   ]
  },
  {
   "cell_type": "code",
   "execution_count": 240,
   "id": "ffc4dda8",
   "metadata": {},
   "outputs": [
    {
     "name": "stdout",
     "output_type": "stream",
     "text": [
      "the\n",
      "hirschberg\n"
     ]
    }
   ],
   "source": [
    "# 수치 데이터를 텍스트 데이터로 돌리기 위한 index to word 생성\n",
    "index_to_word = { index : word for word, index in word_to_index.items() }\n",
    "print(index_to_word[4])\n",
    "print(index_to_word[20000])"
   ]
  },
  {
   "cell_type": "code",
   "execution_count": 241,
   "id": "b8742fea",
   "metadata": {},
   "outputs": [
    {
     "name": "stdout",
     "output_type": "stream",
     "text": [
      "<sos> generale de banque sa lt genb br and lt heller overseas corp of chicago have each taken 50 pct stakes in factoring company sa belgo factors generale de banque said in a statement it gave no financial details of the transaction sa belgo factors' turnover in 1986 was 17 5 billion belgian francs reuter 3\n"
     ]
    }
   ],
   "source": [
    "# index_to_word에 숫자 0은 <pad>, 숫자 1은 <sos>, 숫자 2는 <unk>\n",
    "for index, token in enumerate((\"<pad>\", \"<sos>\", \"<unk>\")):\n",
    "    index_to_word[index]=token\n",
    "print(' '.join([index_to_word[index] for index in x_train_all[1]]))"
   ]
  },
  {
   "cell_type": "code",
   "execution_count": 242,
   "id": "b2dbe431",
   "metadata": {},
   "outputs": [
    {
     "name": "stdout",
     "output_type": "stream",
     "text": [
      "8982\n",
      "2246\n"
     ]
    }
   ],
   "source": [
    "# data list\n",
    "data_list_train = [(x_train_all, y_train_all),(x_train_5000, y_train_5000),(x_train_10000, y_train_10000),(x_train_20000, y_train_20000)]\n",
    "data_list_test = [(x_test_all, y_test_all),(x_test_5000, y_test_5000),(x_test_10000, y_test_10000),(x_test_20000, y_test_20000)]\n",
    "print(len(data_list_train[0][0]))\n",
    "print(len(data_list_test[0][0]))"
   ]
  },
  {
   "cell_type": "code",
   "execution_count": 243,
   "id": "42bbd462",
   "metadata": {},
   "outputs": [],
   "source": [
    "def news_data_to_text(x_train,x_test):\n",
    "    decoded_train = []\n",
    "    for i in range(len(x_train)):\n",
    "        t = ' '.join([index_to_word[index] for index in x_train[i]])\n",
    "        decoded_train.append(t)\n",
    "    x_train = decoded_train\n",
    "    \n",
    "    decoded_test = []\n",
    "    for i in range(len(x_test)):\n",
    "        t = ' '.join([index_to_word[index] for index in x_test[i]])\n",
    "        decoded_test.append(t)\n",
    "\n",
    "    x_test = decoded_test\n",
    "    print(\"x_train length : \",len(x_train))\n",
    "    print(\"x_text length : \",len(x_test))\n",
    "    return x_train, x_test\n",
    "    "
   ]
  },
  {
   "cell_type": "code",
   "execution_count": 244,
   "id": "ec16f9ce",
   "metadata": {},
   "outputs": [
    {
     "name": "stdout",
     "output_type": "stream",
     "text": [
      "x_train length :  8982\n",
      "x_text length :  2246\n",
      "x_train length :  8982\n",
      "x_text length :  2246\n",
      "x_train length :  8982\n",
      "x_text length :  2246\n",
      "x_train length :  8982\n",
      "x_text length :  2246\n"
     ]
    }
   ],
   "source": [
    "count = 0\n",
    "for (xtrain,ytrain),(xtest,ytest) in zip(data_list_train, data_list_test):\n",
    "    data_list_train[count][0][::], data_list_test[count][0][::] = news_data_to_text(xtrain,xtest)\n",
    "    count+=1"
   ]
  },
  {
   "cell_type": "markdown",
   "id": "faf96b37",
   "metadata": {},
   "source": [
    "### 벡터화"
   ]
  },
  {
   "cell_type": "code",
   "execution_count": 30,
   "id": "fca2671d",
   "metadata": {},
   "outputs": [],
   "source": [
    "from sklearn.feature_extraction.text import CountVectorizer\n",
    "from sklearn.feature_extraction.text import TfidfTransformer"
   ]
  },
  {
   "cell_type": "code",
   "execution_count": 31,
   "id": "45135eaa",
   "metadata": {},
   "outputs": [],
   "source": [
    "def TF_IDF(x_train,x_test, x_train_num='all'):\n",
    "    # DTN\n",
    "    dtmvector = CountVectorizer()\n",
    "    x_train_dtm = dtmvector.fit_transform(x_train)\n",
    "    print(x_train_num)\n",
    "    print(\"DTM\",x_train_dtm.shape)\n",
    "\n",
    "    # TF-IDF , DTM을 입력으로 받는다\n",
    "    tfidf_transformer = TfidfTransformer()\n",
    "    tfidfv = tfidf_transformer.fit_transform(x_train_dtm)\n",
    "    print(\"TF-IDF\",tfidfv.shape)\n",
    "    \n",
    "    x_test_dtm = dtmvector.transform(x_test) #테스트 데이터를 DTM으로 변환\n",
    "    tfidfv_test = tfidf_transformer.transform(x_test_dtm) #DTM을 TF-IDF 행렬로 변환\n",
    "    \n",
    "    return x_train_dtm ,tfidfv, x_test_dtm, tfidfv_test"
   ]
  },
  {
   "cell_type": "code",
   "execution_count": 32,
   "id": "28dc7857",
   "metadata": {},
   "outputs": [
    {
     "name": "stdout",
     "output_type": "stream",
     "text": [
      "all\n",
      "DTM (8982, 26506)\n",
      "TF-IDF (8982, 26506)\n",
      "5000\n",
      "DTM (8982, 4867)\n",
      "TF-IDF (8982, 4867)\n",
      "10000\n",
      "DTM (8982, 9670)\n",
      "TF-IDF (8982, 9670)\n",
      "20000\n",
      "DTM (8982, 18479)\n",
      "TF-IDF (8982, 18479)\n"
     ]
    }
   ],
   "source": [
    "x_train_dtm_all , tfidfv_all, x_test_dtm_all, tfidfv_test_all =  TF_IDF(x_train_all,x_test_all,\"all\")\n",
    "x_train_dtm_5000 , tfidfv_5000, x_test_dtm_5000, tfidfv_test_5000 =  TF_IDF(x_train_5000,x_test_5000,\"5000\")\n",
    "x_train_dtm_10000 , tfidfv_10000, x_test_dtm_10000, tfidfv_test_10000 =  TF_IDF(x_train_10000,x_test_10000,\"10000\")\n",
    "x_train_dtm_20000 , tfidfv_20000, x_test_dtm_20000, tfidfv_test_20000 =  TF_IDF(x_train_20000,x_test_20000,\"20000\")"
   ]
  },
  {
   "cell_type": "markdown",
   "id": "cd6a5e37",
   "metadata": {},
   "source": [
    "-  DTM이 자체적인 규칙에 따라서 불필요하다고 판단하는 토큰들을 제거하기 때문에 num_words를 설정한 수보다 조금 적은 수의 열 개수를 갖는다"
   ]
  },
  {
   "cell_type": "markdown",
   "id": "05b71585",
   "metadata": {},
   "source": [
    "### 모델"
   ]
  },
  {
   "cell_type": "code",
   "execution_count": 33,
   "id": "3e9296a5",
   "metadata": {},
   "outputs": [],
   "source": [
    "from sklearn.naive_bayes import MultinomialNB #다항분포 나이브 베이즈 모델\n",
    "from sklearn.linear_model import LogisticRegression, SGDClassifier\n",
    "from sklearn.naive_bayes import ComplementNB\n",
    "from sklearn.tree import DecisionTreeClassifier\n",
    "from sklearn.ensemble import RandomForestClassifier\n",
    "from sklearn.ensemble import GradientBoostingClassifier\n",
    "from sklearn.ensemble import VotingClassifier\n",
    "from sklearn.svm import LinearSVC\n",
    "from sklearn.metrics import accuracy_score #정확도 계산"
   ]
  },
  {
   "cell_type": "code",
   "execution_count": 34,
   "id": "73e072bd",
   "metadata": {},
   "outputs": [],
   "source": [
    "# 모델 선언 - for문에서 초기화 하기 위함\n",
    "def MNB():\n",
    "    return MultinomialNB()\n",
    "\n",
    "def CNB():\n",
    "    return ComplementNB()\n",
    "\n",
    "def SGD():\n",
    "    return SGDClassifier(penalty='l2',max_iter=2000)\n",
    "\n",
    "def lr():\n",
    "    return LogisticRegression(C=10000, penalty='l2', max_iter=2000)\n",
    "\n",
    "def lsvc():\n",
    "    return LinearSVC(C=10000, penalty='l2', max_iter=2000, dual=False)\n",
    "\n",
    "def tree():\n",
    "    return DecisionTreeClassifier(max_depth=5, random_state=0)\n",
    "\n",
    "def forest():\n",
    "    return RandomForestClassifier(max_depth=5, random_state=0)\n",
    "\n",
    "def grbt():\n",
    "    return GradientBoostingClassifier(random_state=0) # verbose=3\n",
    "    \n"
   ]
  },
  {
   "cell_type": "code",
   "execution_count": 35,
   "id": "2bc48537",
   "metadata": {},
   "outputs": [],
   "source": [
    "# test model function\n",
    "def test_model(model, tfidfv, tfidfv_test, y_train, y_test):\n",
    "    print(\"model: \",type(model).__name__)\n",
    "    model.fit(tfidfv, y_train)\n",
    "    \n",
    "    predicted = model.predict(tfidfv_test) #테스트 데이터에 대한 예측\n",
    "    print(\"정확도:\", accuracy_score(y_test, predicted)) #예측값과 실제값 비교\n",
    "    acc = accuracy_score(y_test, predicted) * 100\n",
    "    return model, acc"
   ]
  },
  {
   "cell_type": "code",
   "execution_count": 320,
   "id": "f3b6ac1f",
   "metadata": {},
   "outputs": [],
   "source": [
    "# model function list\n",
    "model_list = [MNB,CNB,SGD,lr,lsvc,tree,forest,grbt]\n",
    "\n",
    "# y data list\n",
    "y_list = [(y_train_all,y_test_all),(y_train_5000,y_test_5000),(y_train_10000,y_test_10000),(y_train_20000,y_test_20000)]\n",
    "\n",
    "# tfidfv ,tfidfv test list\n",
    "tfidf_list = [(tfidfv_all,tfidfv_test_all),(tfidfv_5000,tfidfv_test_5000),(tfidfv_10000,tfidfv_test_10000),(tfidfv_20000,tfidfv_test_20000)]\n",
    "\n",
    "# num words list\n",
    "nums_word = ['all','5000','10000','20000']"
   ]
  },
  {
   "cell_type": "code",
   "execution_count": 210,
   "id": "a8694be1",
   "metadata": {},
   "outputs": [
    {
     "name": "stdout",
     "output_type": "stream",
     "text": [
      "=========================================================\n",
      "--------------------------------------------------\n",
      "nums word all\n",
      "model:  MultinomialNB\n",
      "정확도: 0.5997328584149599\n",
      "--------------------------------------------------\n",
      "nums word 5000\n",
      "model:  MultinomialNB\n",
      "정확도: 0.6731967943009796\n",
      "--------------------------------------------------\n",
      "nums word 10000\n",
      "model:  MultinomialNB\n",
      "정확도: 0.6567230632235085\n",
      "--------------------------------------------------\n",
      "nums word 20000\n",
      "model:  MultinomialNB\n",
      "정확도: 0.6193232413178985\n",
      "=========================================================\n",
      "--------------------------------------------------\n",
      "nums word all\n",
      "model:  ComplementNB\n",
      "정확도: 0.7649154051647373\n",
      "--------------------------------------------------\n",
      "nums word 5000\n",
      "model:  ComplementNB\n",
      "정확도: 0.7707034728406055\n",
      "--------------------------------------------------\n",
      "nums word 10000\n",
      "model:  ComplementNB\n",
      "정확도: 0.7707034728406055\n",
      "--------------------------------------------------\n",
      "nums word 20000\n",
      "model:  ComplementNB\n",
      "정확도: 0.7671415850400712\n",
      "=========================================================\n",
      "--------------------------------------------------\n",
      "nums word all\n",
      "model:  SGDClassifier\n",
      "정확도: 0.8428317008014248\n",
      "--------------------------------------------------\n",
      "nums word 5000\n",
      "model:  SGDClassifier\n",
      "정확도: 0.840160284951024\n",
      "--------------------------------------------------\n",
      "nums word 10000\n",
      "model:  SGDClassifier\n",
      "정확도: 0.8406055209260909\n",
      "--------------------------------------------------\n",
      "nums word 20000\n",
      "model:  SGDClassifier\n",
      "정확도: 0.8406055209260909\n",
      "=========================================================\n",
      "--------------------------------------------------\n",
      "nums word all\n",
      "model:  LogisticRegression\n",
      "정확도: 0.8165627782724845\n",
      "--------------------------------------------------\n",
      "nums word 5000\n",
      "model:  LogisticRegression\n"
     ]
    },
    {
     "name": "stderr",
     "output_type": "stream",
     "text": [
      "/opt/conda/lib/python3.9/site-packages/sklearn/linear_model/_logistic.py:814: ConvergenceWarning: lbfgs failed to converge (status=1):\n",
      "STOP: TOTAL NO. of ITERATIONS REACHED LIMIT.\n",
      "\n",
      "Increase the number of iterations (max_iter) or scale the data as shown in:\n",
      "    https://scikit-learn.org/stable/modules/preprocessing.html\n",
      "Please also refer to the documentation for alternative solver options:\n",
      "    https://scikit-learn.org/stable/modules/linear_model.html#logistic-regression\n",
      "  n_iter_i = _check_optimize_result(\n"
     ]
    },
    {
     "name": "stdout",
     "output_type": "stream",
     "text": [
      "정확도: 0.8032056990204809\n",
      "--------------------------------------------------\n",
      "nums word 10000\n",
      "model:  LogisticRegression\n"
     ]
    },
    {
     "name": "stderr",
     "output_type": "stream",
     "text": [
      "/opt/conda/lib/python3.9/site-packages/sklearn/linear_model/_logistic.py:814: ConvergenceWarning: lbfgs failed to converge (status=1):\n",
      "STOP: TOTAL NO. of ITERATIONS REACHED LIMIT.\n",
      "\n",
      "Increase the number of iterations (max_iter) or scale the data as shown in:\n",
      "    https://scikit-learn.org/stable/modules/preprocessing.html\n",
      "Please also refer to the documentation for alternative solver options:\n",
      "    https://scikit-learn.org/stable/modules/linear_model.html#logistic-regression\n",
      "  n_iter_i = _check_optimize_result(\n"
     ]
    },
    {
     "name": "stdout",
     "output_type": "stream",
     "text": [
      "정확도: 0.8107747105966162\n",
      "--------------------------------------------------\n",
      "nums word 20000\n",
      "model:  LogisticRegression\n"
     ]
    },
    {
     "name": "stderr",
     "output_type": "stream",
     "text": [
      "/opt/conda/lib/python3.9/site-packages/sklearn/linear_model/_logistic.py:814: ConvergenceWarning: lbfgs failed to converge (status=1):\n",
      "STOP: TOTAL NO. of ITERATIONS REACHED LIMIT.\n",
      "\n",
      "Increase the number of iterations (max_iter) or scale the data as shown in:\n",
      "    https://scikit-learn.org/stable/modules/preprocessing.html\n",
      "Please also refer to the documentation for alternative solver options:\n",
      "    https://scikit-learn.org/stable/modules/linear_model.html#logistic-regression\n",
      "  n_iter_i = _check_optimize_result(\n"
     ]
    },
    {
     "name": "stdout",
     "output_type": "stream",
     "text": [
      "정확도: 0.8161175422974176\n",
      "=========================================================\n",
      "--------------------------------------------------\n",
      "nums word all\n",
      "model:  LinearSVC\n",
      "정확도: 0.8063223508459484\n",
      "--------------------------------------------------\n",
      "nums word 5000\n",
      "model:  LinearSVC\n"
     ]
    },
    {
     "name": "stderr",
     "output_type": "stream",
     "text": [
      "/opt/conda/lib/python3.9/site-packages/sklearn/svm/_base.py:1199: ConvergenceWarning: Liblinear failed to converge, increase the number of iterations.\n",
      "  warnings.warn(\n"
     ]
    },
    {
     "name": "stdout",
     "output_type": "stream",
     "text": [
      "정확도: 0.7943009795191451\n",
      "--------------------------------------------------\n",
      "nums word 10000\n",
      "model:  LinearSVC\n",
      "정확도: 0.7991985752448798\n",
      "--------------------------------------------------\n",
      "nums word 20000\n",
      "model:  LinearSVC\n",
      "정확도: 0.8032056990204809\n",
      "=========================================================\n",
      "--------------------------------------------------\n",
      "nums word all\n",
      "model:  DecisionTreeClassifier\n",
      "정확도: 0.5574354407836153\n",
      "--------------------------------------------------\n",
      "nums word 5000\n",
      "model:  DecisionTreeClassifier\n",
      "정확도: 0.5471950133570792\n",
      "--------------------------------------------------\n",
      "nums word 10000\n",
      "model:  DecisionTreeClassifier\n",
      "정확도: 0.5525378450578807\n",
      "--------------------------------------------------\n",
      "nums word 20000\n",
      "model:  DecisionTreeClassifier\n",
      "정확도: 0.5569902048085486\n",
      "=========================================================\n",
      "--------------------------------------------------\n",
      "nums word all\n",
      "model:  RandomForestClassifier\n",
      "정확도: 0.4839715048975957\n",
      "--------------------------------------------------\n",
      "nums word 5000\n",
      "model:  RandomForestClassifier\n",
      "정확도: 0.553873552983081\n",
      "--------------------------------------------------\n",
      "nums word 10000\n",
      "model:  RandomForestClassifier\n",
      "정확도: 0.5267141585040072\n",
      "--------------------------------------------------\n",
      "nums word 20000\n",
      "model:  RandomForestClassifier\n",
      "정확도: 0.5022261798753339\n",
      "=========================================================\n",
      "--------------------------------------------------\n",
      "nums word all\n",
      "model:  GradientBoostingClassifier\n",
      "정확도: 0.7702582368655387\n",
      "--------------------------------------------------\n",
      "nums word 5000\n",
      "model:  GradientBoostingClassifier\n",
      "정확도: 0.767586821015138\n",
      "--------------------------------------------------\n",
      "nums word 10000\n",
      "model:  GradientBoostingClassifier\n",
      "정확도: 0.7662511130899377\n",
      "--------------------------------------------------\n",
      "nums word 20000\n",
      "model:  GradientBoostingClassifier\n",
      "정확도: 0.7702582368655387\n"
     ]
    }
   ],
   "source": [
    "\n",
    "accuracy = []\n",
    "# test model all\n",
    "for create_model in  model_list:\n",
    "    print(\"=========================================================\")\n",
    "    for (y_train,y_test),(tfidfv,tfidfv_test),num in zip(y_list,tfidf_list,nums_word):\n",
    "        print(\"--------------------------------------------------\")\n",
    "        print(f\"nums word {num}\")\n",
    "            \n",
    "        # model Initialize\n",
    "        model = create_model()\n",
    "        _, acc = test_model(model, tfidfv, tfidfv_test, y_train, y_test)\n",
    "        accuracy.append(acc)\n",
    "        "
   ]
  },
  {
   "cell_type": "markdown",
   "id": "d520d518",
   "metadata": {},
   "source": [
    "모델 중에 Gradient 모델을 가지고 제대로 예측하고 있는지 그리고 어느 정도의 확신을 가지고 판단하는지 모델이 결정한 확률을 그래프로 시각화해본다"
   ]
  },
  {
   "cell_type": "code",
   "execution_count": 211,
   "id": "b2fff634",
   "metadata": {},
   "outputs": [
    {
     "data": {
      "image/png": "[encoded data removed]",
      "text/plain": [
       "<Figure size 792x360 with 1 Axes>"
      ]
     },
     "metadata": {
      "needs_background": "light"
     },
     "output_type": "display_data"
    }
   ],
   "source": [
    "# gradient boosting 모델\n",
    "probability_3 = model.predict_proba(tfidfv_test[3])[0]\n",
    "\n",
    "plt.rcParams[\"figure.figsize\"] = (11,5)\n",
    "plt.bar(model.classes_, probability_3)\n",
    "plt.xlim(-1, 21)\n",
    "plt.xticks(model.classes_)\n",
    "plt.xlabel(\"Class\")\n",
    "plt.ylabel(\"Probability\")\n",
    "plt.show()"
   ]
  },
  {
   "cell_type": "code",
   "execution_count": 212,
   "id": "6dc7bac2",
   "metadata": {},
   "outputs": [
    {
     "data": {
      "text/plain": [
       "array([16])"
      ]
     },
     "execution_count": 212,
     "metadata": {},
     "output_type": "execute_result"
    }
   ],
   "source": [
    "model.predict(tfidfv_test[3])"
   ]
  },
  {
   "cell_type": "markdown",
   "id": "2e8bfa63",
   "metadata": {},
   "source": [
    "- 결과적으로 SGD가 가장 좋은 성능을 보였고 다음에 logistic regression과 LinearSVC가 80% 이상의 성능을 보였다.\n",
    "- random forest,decision tree 모델은 별로 좋은 성능을 보이지는 못했다.\n",
    "- 훈련 시간은 SGD , MultinomialNB, ComplementNB가 가장 빨랐다.\n",
    "- 데이터같은 경우에는 빈도수 상위 10000를 사용하는 경우가 대체적으로 모두 가장 높은 편에 속했다.\n",
    "- 따라서 8 개를 훈련한 결과를 가지고 가장 좋은 성능을 내는 3가지 모델과 데이터는 빈도수 상위 10000를 사용한 경우를 가지고 Voting을 진행한다."
   ]
  },
  {
   "cell_type": "markdown",
   "id": "4d093a1e",
   "metadata": {},
   "source": [
    "### 보팅(Voting)"
   ]
  },
  {
   "cell_type": "markdown",
   "id": "d224ee5b",
   "metadata": {},
   "source": [
    "- 이전에 모델 8개를 훈련한 결과를 가지고 가장 좋은 성능을 내는 모델 3가지\n",
    "    - LogisticRegression\n",
    "    - SGDClassifier\n",
    "    - LinearSVC"
   ]
  },
  {
   "cell_type": "code",
   "execution_count": 39,
   "id": "0eb7d2e4",
   "metadata": {},
   "outputs": [],
   "source": [
    "from sklearn.metrics import classification_report\n",
    "from sklearn.metrics import confusion_matrix"
   ]
  },
  {
   "cell_type": "code",
   "execution_count": 58,
   "id": "30f93221",
   "metadata": {},
   "outputs": [],
   "source": [
    "from sklearn.ensemble import VotingClassifier\n",
    "from sklearn.linear_model import LogisticRegression\n",
    "from sklearn.linear_model import SGDClassifier\n",
    "from sklearn.svm import LinearSVC\n",
    "from sklearn.naive_bayes import ComplementNB\n",
    "from sklearn.ensemble import GradientBoostingClassifier\n",
    "\n",
    "# Initialize individual classifiers\n",
    "lr_classifier = LogisticRegression(penalty='l2', max_iter=1000)\n",
    "sgd_classifier = SGDClassifier(loss='log',penalty='l2', max_iter=1000)\n",
    "gbc_classifier = GradientBoostingClassifier(random_state=0) # verbose=3\n",
    "# cnb_classifier = ComplementNB()\n",
    "\n",
    "# Create a list of tuples containing classifier names and classifier instances\n",
    "classifiers = [('lr', lr_classifier), ('sgd', sgd_classifier), ('gbc', gbc_classifier)]\n",
    "\n",
    "# Initialize the Voting Classifier\n",
    "voting_classifier = VotingClassifier(estimators=classifiers, voting='soft')\n",
    "voting_classifier = voting_classifier.fit(tfidfv_10000, y_train_10000)"
   ]
  },
  {
   "cell_type": "code",
   "execution_count": 66,
   "id": "e0bb7e48",
   "metadata": {},
   "outputs": [
    {
     "name": "stdout",
     "output_type": "stream",
     "text": [
      "(2246, 9670)\n"
     ]
    },
    {
     "data": {
      "text/plain": [
       "(2246,)"
      ]
     },
     "execution_count": 66,
     "metadata": {},
     "output_type": "execute_result"
    }
   ],
   "source": [
    "print(tfidfv_test_10000.shape)\n",
    "y_test_10000.shape"
   ]
  },
  {
   "cell_type": "code",
   "execution_count": 63,
   "id": "ec889d90",
   "metadata": {},
   "outputs": [],
   "source": [
    "def graph_confusion_matrix(model, x_test, y_test):#, classes_name):\n",
    "    df_cm = pd.DataFrame(confusion_matrix(y_test, model.predict(x_test)))#, index=classes_name, columns=classes_name)\n",
    "    fig = plt.figure(figsize=(12,12))\n",
    "    heatmap = sns.heatmap(df_cm, annot=True, fmt=\"d\")\n",
    "    heatmap.yaxis.set_ticklabels(heatmap.yaxis.get_ticklabels(), rotation=0, ha='right', fontsize=12)\n",
    "    heatmap.xaxis.set_ticklabels(heatmap.xaxis.get_ticklabels(), rotation=45, ha='right', fontsize=12)\n",
    "    plt.ylabel('label')\n",
    "    plt.xlabel('predicted value')"
   ]
  },
  {
   "cell_type": "code",
   "execution_count": 64,
   "id": "bbc3b4b8",
   "metadata": {
    "scrolled": true
   },
   "outputs": [
    {
     "data": {
      "image/png": "[encoded data removed]",
      "text/plain": [
       "<Figure size 864x864 with 2 Axes>"
      ]
     },
     "metadata": {
      "needs_background": "light"
     },
     "output_type": "display_data"
    }
   ],
   "source": [
    "graph_confusion_matrix(voting_classifier, tfidfv_test_10000, y_test_10000)"
   ]
  },
  {
   "cell_type": "code",
   "execution_count": 67,
   "id": "4d8f626e",
   "metadata": {},
   "outputs": [
    {
     "name": "stdout",
     "output_type": "stream",
     "text": [
      "정확도: 0.813446126447017\n"
     ]
    }
   ],
   "source": [
    "predicted = voting_classifier.predict(tfidfv_test_10000)\n",
    "\n",
    "print(\"정확도:\", accuracy_score(y_test_10000, predicted)) #예측값과 실제값 비교"
   ]
  },
  {
   "cell_type": "markdown",
   "id": "cf25240d",
   "metadata": {},
   "source": [
    "### F1-Score, Confusion Matrix"
   ]
  },
  {
   "cell_type": "markdown",
   "id": "e2b252d1",
   "metadata": {},
   "source": [
    "- 8개의 모델 중에 vocabulary size에 따라 머신러닝 모델의 성능 변화가 비교적 크게 있었던 MultinomialNB를 가지고 Confusion matrix를 구해본다\n",
    "- MultinomialNB의 알고리즘 특성과 왜 이런 성능 변화를 보였는지에 대해 살펴본다"
   ]
  },
  {
   "cell_type": "code",
   "execution_count": 321,
   "id": "81127156",
   "metadata": {},
   "outputs": [
    {
     "name": "stdout",
     "output_type": "stream",
     "text": [
      "--------------------------------------------------\n",
      "nums word all\n",
      "model:  MultinomialNB\n",
      "정확도: 0.5997328584149599\n",
      "              precision    recall  f1-score   support\n",
      "\n",
      "           0       0.00      0.00      0.00        12\n",
      "           1       0.79      0.21      0.33       105\n",
      "           2       0.00      0.00      0.00        20\n",
      "           3       0.72      0.92      0.81       813\n",
      "           4       0.45      0.96      0.61       474\n",
      "           5       0.00      0.00      0.00         5\n",
      "           6       0.00      0.00      0.00        14\n",
      "           7       0.00      0.00      0.00         3\n",
      "           8       0.00      0.00      0.00        38\n",
      "           9       0.00      0.00      0.00        25\n",
      "          10       0.00      0.00      0.00        30\n",
      "          11       0.80      0.29      0.42        83\n",
      "          12       0.00      0.00      0.00        13\n",
      "          13       0.00      0.00      0.00        37\n",
      "          14       0.00      0.00      0.00         2\n",
      "          15       0.00      0.00      0.00         9\n",
      "          16       0.75      0.18      0.29        99\n",
      "          17       0.00      0.00      0.00        12\n",
      "          18       0.00      0.00      0.00        20\n",
      "          19       0.73      0.58      0.64       133\n",
      "          20       0.00      0.00      0.00        70\n",
      "          21       0.00      0.00      0.00        27\n",
      "          22       0.00      0.00      0.00         7\n",
      "          23       0.00      0.00      0.00        12\n",
      "          24       0.00      0.00      0.00        19\n",
      "          25       0.00      0.00      0.00        31\n",
      "          26       0.00      0.00      0.00         8\n",
      "          27       0.00      0.00      0.00         4\n",
      "          28       0.00      0.00      0.00        10\n",
      "          29       0.00      0.00      0.00         4\n",
      "          30       0.00      0.00      0.00        12\n",
      "          31       0.00      0.00      0.00        13\n",
      "          32       0.00      0.00      0.00        10\n",
      "          33       0.00      0.00      0.00         5\n",
      "          34       0.00      0.00      0.00         7\n",
      "          35       0.00      0.00      0.00         6\n",
      "          36       0.00      0.00      0.00        11\n",
      "          37       0.00      0.00      0.00         2\n",
      "          38       0.00      0.00      0.00         3\n",
      "          39       0.00      0.00      0.00         5\n",
      "          40       0.00      0.00      0.00        10\n",
      "          41       0.00      0.00      0.00         8\n",
      "          42       0.00      0.00      0.00         3\n",
      "          43       0.00      0.00      0.00         6\n",
      "          44       0.00      0.00      0.00         5\n",
      "          45       0.00      0.00      0.00         1\n",
      "\n",
      "    accuracy                           0.60      2246\n",
      "   macro avg       0.09      0.07      0.07      2246\n",
      "weighted avg       0.50      0.60      0.50      2246\n",
      "\n",
      "--------------------------------------------------\n",
      "--------------------------------------------------\n",
      "nums word 5000\n",
      "model:  MultinomialNB\n",
      "정확도: 0.6731967943009796\n",
      "              precision    recall  f1-score   support\n",
      "\n",
      "           0       0.00      0.00      0.00        12\n",
      "           1       0.50      0.80      0.62       105\n",
      "           2       0.00      0.00      0.00        20\n",
      "           3       0.86      0.89      0.87       813\n",
      "           4       0.59      0.95      0.73       474\n",
      "           5       0.00      0.00      0.00         5\n",
      "           6       0.00      0.00      0.00        14\n",
      "           7       0.00      0.00      0.00         3\n",
      "           8       0.00      0.00      0.00        38\n",
      "           9       1.00      0.28      0.44        25\n",
      "          10       0.00      0.00      0.00        30\n",
      "          11       0.48      0.73      0.58        83\n",
      "          12       0.00      0.00      0.00        13\n",
      "          13       1.00      0.14      0.24        37\n",
      "          14       0.00      0.00      0.00         2\n",
      "          15       0.00      0.00      0.00         9\n",
      "          16       0.60      0.66      0.62        99\n",
      "          17       0.00      0.00      0.00        12\n",
      "          18       0.00      0.00      0.00        20\n",
      "          19       0.51      0.81      0.63       133\n",
      "          20       0.90      0.13      0.23        70\n",
      "          21       0.00      0.00      0.00        27\n",
      "          22       0.00      0.00      0.00         7\n",
      "          23       0.00      0.00      0.00        12\n",
      "          24       0.00      0.00      0.00        19\n",
      "          25       1.00      0.06      0.12        31\n",
      "          26       0.00      0.00      0.00         8\n",
      "          27       0.00      0.00      0.00         4\n",
      "          28       0.00      0.00      0.00        10\n",
      "          29       0.00      0.00      0.00         4\n",
      "          30       0.00      0.00      0.00        12\n",
      "          31       0.00      0.00      0.00        13\n",
      "          32       0.00      0.00      0.00        10\n",
      "          33       0.00      0.00      0.00         5\n",
      "          34       0.00      0.00      0.00         7\n",
      "          35       0.00      0.00      0.00         6\n",
      "          36       0.00      0.00      0.00        11\n",
      "          37       0.00      0.00      0.00         2\n",
      "          38       0.00      0.00      0.00         3\n",
      "          39       0.00      0.00      0.00         5\n",
      "          40       0.00      0.00      0.00        10\n",
      "          41       0.00      0.00      0.00         8\n",
      "          42       0.00      0.00      0.00         3\n",
      "          43       0.00      0.00      0.00         6\n",
      "          44       0.00      0.00      0.00         5\n",
      "          45       0.00      0.00      0.00         1\n",
      "\n",
      "    accuracy                           0.67      2246\n",
      "   macro avg       0.16      0.12      0.11      2246\n",
      "weighted avg       0.60      0.67      0.60      2246\n",
      "\n",
      "--------------------------------------------------\n",
      "--------------------------------------------------\n",
      "nums word 10000\n",
      "model:  MultinomialNB\n",
      "정확도: 0.6567230632235085\n",
      "              precision    recall  f1-score   support\n",
      "\n",
      "           0       0.00      0.00      0.00        12\n",
      "           1       0.62      0.69      0.65       105\n",
      "           2       0.00      0.00      0.00        20\n",
      "           3       0.81      0.90      0.85       813\n",
      "           4       0.51      0.96      0.67       474\n",
      "           5       0.00      0.00      0.00         5\n",
      "           6       0.00      0.00      0.00        14\n",
      "           7       0.00      0.00      0.00         3\n",
      "           8       0.00      0.00      0.00        38\n",
      "           9       1.00      0.08      0.15        25\n",
      "          10       0.00      0.00      0.00        30\n",
      "          11       0.66      0.63      0.64        83\n",
      "          12       0.00      0.00      0.00        13\n",
      "          13       1.00      0.03      0.05        37\n",
      "          14       0.00      0.00      0.00         2\n",
      "          15       0.00      0.00      0.00         9\n",
      "          16       0.69      0.56      0.61        99\n",
      "          17       0.00      0.00      0.00        12\n",
      "          18       0.00      0.00      0.00        20\n",
      "          19       0.60      0.78      0.68       133\n",
      "          20       1.00      0.04      0.08        70\n",
      "          21       0.00      0.00      0.00        27\n",
      "          22       0.00      0.00      0.00         7\n",
      "          23       0.00      0.00      0.00        12\n",
      "          24       0.00      0.00      0.00        19\n",
      "          25       1.00      0.03      0.06        31\n",
      "          26       0.00      0.00      0.00         8\n",
      "          27       0.00      0.00      0.00         4\n",
      "          28       0.00      0.00      0.00        10\n",
      "          29       0.00      0.00      0.00         4\n",
      "          30       0.00      0.00      0.00        12\n",
      "          31       0.00      0.00      0.00        13\n",
      "          32       0.00      0.00      0.00        10\n",
      "          33       0.00      0.00      0.00         5\n",
      "          34       0.00      0.00      0.00         7\n",
      "          35       0.00      0.00      0.00         6\n",
      "          36       0.00      0.00      0.00        11\n",
      "          37       0.00      0.00      0.00         2\n",
      "          38       0.00      0.00      0.00         3\n",
      "          39       0.00      0.00      0.00         5\n",
      "          40       0.00      0.00      0.00        10\n",
      "          41       0.00      0.00      0.00         8\n",
      "          42       0.00      0.00      0.00         3\n",
      "          43       0.00      0.00      0.00         6\n",
      "          44       0.00      0.00      0.00         5\n",
      "          45       0.00      0.00      0.00         1\n",
      "\n",
      "    accuracy                           0.66      2246\n",
      "   macro avg       0.17      0.10      0.10      2246\n",
      "weighted avg       0.59      0.66      0.58      2246\n",
      "\n",
      "--------------------------------------------------\n",
      "--------------------------------------------------\n",
      "nums word 20000\n",
      "model:  MultinomialNB\n",
      "정확도: 0.6193232413178985\n",
      "              precision    recall  f1-score   support\n",
      "\n",
      "           0       0.00      0.00      0.00        12\n",
      "           1       0.79      0.39      0.52       105\n",
      "           2       0.00      0.00      0.00        20\n",
      "           3       0.75      0.92      0.82       813\n",
      "           4       0.46      0.96      0.62       474\n",
      "           5       0.00      0.00      0.00         5\n",
      "           6       0.00      0.00      0.00        14\n",
      "           7       0.00      0.00      0.00         3\n",
      "           8       0.00      0.00      0.00        38\n",
      "           9       1.00      0.04      0.08        25\n",
      "          10       0.00      0.00      0.00        30\n",
      "          11       0.76      0.37      0.50        83\n",
      "          12       0.00      0.00      0.00        13\n",
      "          13       0.00      0.00      0.00        37\n",
      "          14       0.00      0.00      0.00         2\n",
      "          15       0.00      0.00      0.00         9\n",
      "          16       0.74      0.28      0.41        99\n",
      "          17       0.00      0.00      0.00        12\n",
      "          18       0.00      0.00      0.00        20\n",
      "          19       0.67      0.67      0.67       133\n",
      "          20       0.00      0.00      0.00        70\n",
      "          21       0.00      0.00      0.00        27\n",
      "          22       0.00      0.00      0.00         7\n",
      "          23       0.00      0.00      0.00        12\n",
      "          24       0.00      0.00      0.00        19\n",
      "          25       0.00      0.00      0.00        31\n",
      "          26       0.00      0.00      0.00         8\n",
      "          27       0.00      0.00      0.00         4\n",
      "          28       0.00      0.00      0.00        10\n",
      "          29       0.00      0.00      0.00         4\n",
      "          30       0.00      0.00      0.00        12\n",
      "          31       0.00      0.00      0.00        13\n",
      "          32       0.00      0.00      0.00        10\n",
      "          33       0.00      0.00      0.00         5\n",
      "          34       0.00      0.00      0.00         7\n",
      "          35       0.00      0.00      0.00         6\n",
      "          36       0.00      0.00      0.00        11\n",
      "          37       0.00      0.00      0.00         2\n",
      "          38       0.00      0.00      0.00         3\n",
      "          39       0.00      0.00      0.00         5\n",
      "          40       0.00      0.00      0.00        10\n",
      "          41       0.00      0.00      0.00         8\n",
      "          42       0.00      0.00      0.00         3\n",
      "          43       0.00      0.00      0.00         6\n",
      "          44       0.00      0.00      0.00         5\n",
      "          45       0.00      0.00      0.00         1\n",
      "\n",
      "    accuracy                           0.62      2246\n",
      "   macro avg       0.11      0.08      0.08      2246\n",
      "weighted avg       0.52      0.62      0.53      2246\n",
      "\n",
      "--------------------------------------------------\n"
     ]
    }
   ],
   "source": [
    "m_acc = []\n",
    "for (y_train,y_test),(tfidfv,tfidfv_test),num in zip(y_list,tfidf_list,nums_word):\n",
    "    print(\"--------------------------------------------------\")\n",
    "    print(f\"nums word {num}\")\n",
    "    acc = 0\n",
    "    # model declare\n",
    "    model = MultinomialNB()\n",
    "    result,acc = test_model(model, tfidfv, tfidfv_test, y_train, y_test)\n",
    "    m_acc.append(acc)\n",
    "    print(classification_report(y_test, model.predict(tfidfv_test), zero_division=0))\n",
    "    #plt.plot(acc, label = f\"nums word {num}\")\n",
    "    print(\"--------------------------------------------------\")"
   ]
  },
  {
   "cell_type": "code",
   "execution_count": 322,
   "id": "03f532c3",
   "metadata": {},
   "outputs": [
    {
     "name": "stdout",
     "output_type": "stream",
     "text": [
      "[59.97328584149599, 67.31967943009795, 65.67230632235085, 61.93232413178985]\n"
     ]
    }
   ],
   "source": [
    "print(m_acc)"
   ]
  },
  {
   "cell_type": "code",
   "execution_count": 339,
   "id": "09879213",
   "metadata": {},
   "outputs": [
    {
     "data": {
      "text/plain": [
       "<AxesSubplot:>"
      ]
     },
     "execution_count": 339,
     "metadata": {},
     "output_type": "execute_result"
    },
    {
     "data": {
      "image/png": "[encoded data removed]",
      "text/plain": [
       "<Figure size 432x288 with 1 Axes>"
      ]
     },
     "metadata": {
      "needs_background": "light"
     },
     "output_type": "display_data"
    }
   ],
   "source": [
    "pd.DataFrame(np.array([m_acc]).reshape(-1,1).T,index= ['num words'], columns = ['all','5000','10000','20000']).plot.barh(width = 0.8)"
   ]
  },
  {
   "cell_type": "markdown",
   "id": "c1b4e608",
   "metadata": {},
   "source": [
    "- 왜 이런 성능 변화가 있었을까?\n",
    "    - 벡터의 차원이 증가하면 해당 공간이 점점 희소해지는데, 이는 모델이 학습하기 어렵게 만든다. 특히나 데이터가 한정적인 경우에는 차원이 증가할수록 데이터 간의 거리가 멀어져 유사성을 파악하기 어려워진다.\n",
    "\n",
    "    - 단어의 수가 증가하면 문서-단어 행렬이 더 희소해지는 경향이 있다. 이러한 희소성은 모델이 노이즈에 민감해지고, 학습 데이터에만 지나치게 의존하여 새로운 데이터에 대한 일반화 능력을 감소시킬 수 있다.\n",
    "\n",
    "    - NumWords가 증가하면서 특히 데이터가 한정적인 경우, 각각의 단어에 대한 충분한 학습 데이터가 확보되지 않을 수 있다. 이로 인해 모델은 각 단어의 다양한 사용 방법을 학습하기 어려워진다."
   ]
  },
  {
   "cell_type": "markdown",
   "id": "bd3c9410",
   "metadata": {},
   "source": [
    "## 4. 딥러닝 모델과 비교해 보기\n",
    "-  감정 분석 등에 사용했던 RNN이나 1-D CNN \n",
    "-  공정한 비교를 위해 이때 Word2Vec 등의 pretrained model은 사용하지 않도록 합니다."
   ]
  },
  {
   "cell_type": "code",
   "execution_count": 246,
   "id": "a7410290",
   "metadata": {},
   "outputs": [
    {
     "name": "stdout",
     "output_type": "stream",
     "text": [
      "model:  LogisticRegression\n",
      "정확도: 0.7951914514692787\n",
      "model:  SGDClassifier\n",
      "정확도: 0.8432769367764915\n",
      "model:  LinearSVC\n",
      "정확도: 0.8014247551202137\n"
     ]
    }
   ],
   "source": [
    "lr_classifier = LogisticRegression(penalty='l2', max_iter=1000)\n",
    "sgd_classifier = SGDClassifier(penalty='l2',max_iter=1000)\n",
    "svc_classifier =  LinearSVC(C=10000, penalty='l2', max_iter=1000, dual=False)\n",
    "\n",
    "\n",
    "lr_model, acc_lr = test_model(lr_classifier, tfidfv_10000, tfidfv_test_10000, y_train_10000, y_test_10000)\n",
    "sgd_model , acc_sgd = test_model(sgd_classifier, tfidfv_10000, tfidfv_test_10000, y_train_10000, y_test_10000)\n",
    "svc_model , acc_svc = test_model(svc_classifier, tfidfv_10000, tfidfv_test_10000, y_train_10000, y_test_10000)"
   ]
  },
  {
   "cell_type": "code",
   "execution_count": 340,
   "id": "8063b6c1",
   "metadata": {},
   "outputs": [
    {
     "name": "stdout",
     "output_type": "stream",
     "text": [
      "Epoch 1/20\n",
      "32/32 [==============================] - 2s 36ms/step - loss: 3.3394 - accuracy: 0.3465 - val_loss: 2.9392 - val_accuracy: 0.3315\n",
      "Epoch 2/20\n",
      "32/32 [==============================] - 1s 29ms/step - loss: 2.5400 - accuracy: 0.3540 - val_loss: 2.2857 - val_accuracy: 0.3315\n",
      "Epoch 3/20\n",
      "32/32 [==============================] - 1s 30ms/step - loss: 1.9713 - accuracy: 0.4732 - val_loss: 1.8336 - val_accuracy: 0.5239\n",
      "Epoch 4/20\n",
      "32/32 [==============================] - 1s 30ms/step - loss: 1.6503 - accuracy: 0.5707 - val_loss: 1.6796 - val_accuracy: 0.5606\n",
      "Epoch 5/20\n",
      "32/32 [==============================] - 1s 30ms/step - loss: 1.4779 - accuracy: 0.6149 - val_loss: 1.5906 - val_accuracy: 0.5984\n",
      "Epoch 6/20\n",
      "32/32 [==============================] - 1s 29ms/step - loss: 1.3219 - accuracy: 0.6771 - val_loss: 1.5312 - val_accuracy: 0.6240\n",
      "Epoch 7/20\n",
      "32/32 [==============================] - 1s 30ms/step - loss: 1.1752 - accuracy: 0.7023 - val_loss: 1.4949 - val_accuracy: 0.6474\n",
      "Epoch 8/20\n",
      "32/32 [==============================] - 1s 30ms/step - loss: 1.0576 - accuracy: 0.7208 - val_loss: 1.5025 - val_accuracy: 0.6518\n",
      "Epoch 9/20\n",
      "32/32 [==============================] - 1s 30ms/step - loss: 0.9549 - accuracy: 0.7435 - val_loss: 1.5393 - val_accuracy: 0.6452\n",
      "Epoch 10/20\n",
      "32/32 [==============================] - 1s 30ms/step - loss: 0.8647 - accuracy: 0.7683 - val_loss: 1.5752 - val_accuracy: 0.6507\n",
      "Epoch 11/20\n",
      "32/32 [==============================] - 1s 30ms/step - loss: 0.7839 - accuracy: 0.7888 - val_loss: 1.6174 - val_accuracy: 0.6463\n",
      "Epoch 12/20\n",
      "32/32 [==============================] - 1s 30ms/step - loss: 0.7160 - accuracy: 0.8071 - val_loss: 1.6781 - val_accuracy: 0.6474\n",
      "Epoch 13/20\n",
      "32/32 [==============================] - 1s 30ms/step - loss: 0.6546 - accuracy: 0.8232 - val_loss: 1.7420 - val_accuracy: 0.6429\n",
      "Epoch 14/20\n",
      "32/32 [==============================] - 1s 30ms/step - loss: 0.5970 - accuracy: 0.8387 - val_loss: 1.8396 - val_accuracy: 0.6529\n",
      "Epoch 15/20\n",
      "32/32 [==============================] - 1s 30ms/step - loss: 0.5443 - accuracy: 0.8481 - val_loss: 1.9270 - val_accuracy: 0.6518\n",
      "Epoch 16/20\n",
      "32/32 [==============================] - 1s 30ms/step - loss: 0.4970 - accuracy: 0.8640 - val_loss: 2.0151 - val_accuracy: 0.6507\n",
      "Epoch 17/20\n",
      "32/32 [==============================] - 1s 30ms/step - loss: 0.4490 - accuracy: 0.8788 - val_loss: 2.0862 - val_accuracy: 0.6552\n",
      "Epoch 18/20\n",
      "32/32 [==============================] - 1s 30ms/step - loss: 0.4105 - accuracy: 0.8887 - val_loss: 2.1410 - val_accuracy: 0.6518\n",
      "Epoch 19/20\n",
      "32/32 [==============================] - 1s 30ms/step - loss: 0.3770 - accuracy: 0.9051 - val_loss: 2.2170 - val_accuracy: 0.6496\n",
      "Epoch 20/20\n",
      "32/32 [==============================] - 1s 30ms/step - loss: 0.3476 - accuracy: 0.9139 - val_loss: 2.3067 - val_accuracy: 0.6485\n"
     ]
    }
   ],
   "source": [
    "import tensorflow as tf\n",
    "from tensorflow.keras.datasets import reuters\n",
    "from tensorflow.keras.preprocessing.sequence import pad_sequences\n",
    "from tensorflow.keras.models import Sequential\n",
    "from tensorflow.keras.metrics import Precision, Recall\n",
    "from tensorflow.keras.layers import Embedding, Conv1D, MaxPooling1D, GlobalMaxPooling1D, Dense\n",
    "\n",
    "# 데이터 불러오기\n",
    "(x_train, y_train), (x_test, y_test) = reuters.load_data(num_words=10000, test_split=0.2)\n",
    "\n",
    "\n",
    "# maxlen 문장 평균 길이\n",
    "max_sequence_length = 700 \n",
    "x_train = pad_sequences(x_train,value=word_to_index[\"<PAD>\"],\n",
    "                                                        padding='post', maxlen=max_sequence_length)\n",
    "x_test = pad_sequences(x_test,value=word_to_index[\"<PAD>\"],\n",
    "                                                        padding='post', maxlen=max_sequence_length)\n",
    "\n",
    "# CNN1D model\n",
    "vocab_size = 10000\n",
    "word_vector_dim = 250\n",
    "\n",
    "model = Sequential()\n",
    "model.add(Embedding(vocab_size, word_vector_dim, input_length=max_sequence_length))\n",
    "model.add(tf.keras.layers.Conv1D(16, 7, activation='relu'))\n",
    "model.add(tf.keras.layers.MaxPooling1D(5))\n",
    "model.add(tf.keras.layers.Conv1D(16, 7, activation='relu'))\n",
    "model.add(tf.keras.layers.GlobalMaxPooling1D())\n",
    "model.add(tf.keras.layers.Dense(8, activation='relu'))\n",
    "\n",
    "num_classes = 46\n",
    "model.add(Dense(num_classes, activation='softmax'))\n",
    "\n",
    "\n",
    "model.compile(optimizer='adam', loss='sparse_categorical_crossentropy',\n",
    "              metrics=['accuracy'])\n",
    "\n",
    "\n",
    "epochs = 20  \n",
    "batch_size = 256  \n",
    "history = model.fit(x_train, y_train, epochs=epochs, batch_size=batch_size, validation_split=0.1)\n",
    "\n",
    "\n"
   ]
  },
  {
   "cell_type": "code",
   "execution_count": 341,
   "id": "b4d585e0",
   "metadata": {},
   "outputs": [
    {
     "name": "stdout",
     "output_type": "stream",
     "text": [
      "71/71 [==============================] - 0s 3ms/step - loss: 2.1510 - accuracy: 0.6589\n",
      "Test loss, Test accuracy: [2.1510355472564697, 0.6589492559432983]\n"
     ]
    }
   ],
   "source": [
    "# Evaluate the model on the test set\n",
    "results = model.evaluate(x_test, y_test)\n",
    "print(\"Test loss, Test accuracy:\", results)"
   ]
  },
  {
   "cell_type": "code",
   "execution_count": 342,
   "id": "04230c8b",
   "metadata": {},
   "outputs": [
    {
     "name": "stdout",
     "output_type": "stream",
     "text": [
      "dict_keys(['loss', 'accuracy', 'val_loss', 'val_accuracy'])\n"
     ]
    }
   ],
   "source": [
    "history_dict = history.history\n",
    "print(history_dict.keys()) "
   ]
  },
  {
   "cell_type": "code",
   "execution_count": 343,
   "id": "26d888b5",
   "metadata": {},
   "outputs": [
    {
     "data": {
      "image/png": "[encoded data removed]",
      "text/plain": [
       "<Figure size 432x288 with 1 Axes>"
      ]
     },
     "metadata": {
      "needs_background": "light"
     },
     "output_type": "display_data"
    }
   ],
   "source": [
    "import matplotlib.pyplot as plt\n",
    "\n",
    "acc = history_dict['accuracy']\n",
    "val_acc = history_dict['val_accuracy']\n",
    "loss = history_dict['loss']\n",
    "val_loss = history_dict['val_loss']\n",
    "\n",
    "epochs = range(1, len(acc) + 1)\n",
    "\n",
    "# \"bo\"는 \"파란색 점\"입니다\n",
    "plt.plot(epochs, loss, 'bo', label='Training loss')\n",
    "# b는 \"파란 실선\"입니다\n",
    "plt.plot(epochs, val_loss, 'b', label='Validation loss')\n",
    "plt.title('Training and validation loss')\n",
    "plt.xlabel('Epochs')\n",
    "plt.ylabel('Loss')\n",
    "plt.legend()\n",
    "\n",
    "plt.show()"
   ]
  },
  {
   "cell_type": "code",
   "execution_count": 344,
   "id": "936a9070",
   "metadata": {},
   "outputs": [
    {
     "data": {
      "image/png": "[encoded data removed]",
      "text/plain": [
       "<Figure size 432x288 with 1 Axes>"
      ]
     },
     "metadata": {
      "needs_background": "light"
     },
     "output_type": "display_data"
    }
   ],
   "source": [
    "plt.plot(epochs, acc, 'bo', label='Training loss')\n",
    "# b는 \"파란 실선\"입니다\n",
    "plt.plot(epochs, val_acc, 'b', label='Validation loss')\n",
    "plt.title('Training and validation loss')\n",
    "plt.xlabel('Epochs')\n",
    "plt.ylabel('Loss')\n",
    "plt.legend()\n",
    "\n",
    "plt.show()"
   ]
  },
  {
   "cell_type": "code",
   "execution_count": 345,
   "id": "69a1b11b",
   "metadata": {},
   "outputs": [
    {
     "data": {
      "text/plain": [
       "0.6484983563423157"
      ]
     },
     "execution_count": 345,
     "metadata": {},
     "output_type": "execute_result"
    }
   ],
   "source": [
    "val_acc[-1]"
   ]
  },
  {
   "cell_type": "code",
   "execution_count": 346,
   "id": "e26ffcf4",
   "metadata": {},
   "outputs": [
    {
     "data": {
      "text/plain": [
       "<matplotlib.legend.Legend at 0x7fe7c93096d0>"
      ]
     },
     "execution_count": 346,
     "metadata": {},
     "output_type": "execute_result"
    },
    {
     "data": {
      "image/png": "[encoded data removed]",
      "text/plain": [
       "<Figure size 432x288 with 1 Axes>"
      ]
     },
     "metadata": {
      "needs_background": "light"
     },
     "output_type": "display_data"
    }
   ],
   "source": [
    "accs = np.array([[acc_lr,acc_sgd,acc_svc,val_acc[-1]*100]]).reshape(-1,1)\n",
    "pd.DataFrame(accs.T,columns=['lr','sgd','svc','cnn'],index = ['model']).plot.barh(color = ['skyblue','blue','green','orange'],)\n",
    "plt.legend(['lr','sgd','svc','cnn'])\n"
   ]
  },
  {
   "cell_type": "markdown",
   "id": "1f6a417c",
   "metadata": {},
   "source": [
    "- 결과적으로 분류 모델이 딥러닝 모델보다 더 높은 성능을 보였다\n",
    "- 이 데이터셋에서는 분류 모델이 우수한 성능을 보여줬지만, 텍스트의 복잡한 관계를 효과적으로 학습하는 데에는 딥러닝이 더 적합할 것 같다. 하지만, 이는 데이터의 특성 및 규모에 따라 다를 수 있으므로 추가 실험이 필요할 것 같다\n",
    "- CNN 결과의 미흡한 점은 훈련 손실과 검증 손실 간의 큰 차이에서 나타난다. 이러한 과적합 문제를 해결하기 위해 드롭아웃 레이어를 추가하거나 모델의 복잡성을 줄이는 등의 방법을 고려할 수 있다.\n",
    "- 현재는 동일한 데이터 처리를 위해서 단순한 처리 과정으로 진행했지만, CNN의 성능을 향상시키기 위해서는 다양한 전처리 기법을 적용하고 모델의 레이어 및 하이퍼파라미터를 최적화하는 과정이 필요하다. Embedding 레이어의 차원을 조절하거나, 드롭아웃 레이어를 추가하며, 다양한 커널 크기를 사용하는 등의 실험을 통해 모델을 개선해야 좋은 성능을 낼 수 있을 것 같다."
   ]
  }
 ],
 "metadata": {
  "kernelspec": {
   "display_name": "Python 3 (ipykernel)",
   "language": "python",
   "name": "python3"
  },
  "language_info": {
   "codemirror_mode": {
    "name": "ipython",
    "version": 3
   },
   "file_extension": ".py",
   "mimetype": "text/x-python",
   "name": "python",
   "nbconvert_exporter": "python",
   "pygments_lexer": "ipython3",
   "version": "3.9.7"
  }
 },
 "nbformat": 4,
 "nbformat_minor": 5
}
