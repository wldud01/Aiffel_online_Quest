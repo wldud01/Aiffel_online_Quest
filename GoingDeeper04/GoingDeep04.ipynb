{
 "cells": [
  {
   "cell_type": "markdown",
   "id": "358c4170",
   "metadata": {},
   "source": [
    "## Seq2seq으로 번역기 만들기\n",
    "- 데이터 전처리\n",
    "- 모델 설계\n",
    "- 훈련하기\n",
    "- 시각화\n"
   ]
  },
  {
   "cell_type": "code",
   "execution_count": 1,
   "id": "50b314cf",
   "metadata": {},
   "outputs": [
    {
     "data": {
      "text/plain": [
       "'/usr/share/fonts/truetype/nanum/NanumBarunGothic.ttf'"
      ]
     },
     "execution_count": 1,
     "metadata": {},
     "output_type": "execute_result"
    }
   ],
   "source": [
    "import matplotlib as mpl\n",
    "import matplotlib.pyplot as plt\n",
    " \n",
    "%config InlineBackend.figure_format = 'retina'\n",
    " \n",
    "# matplot은 한국어를 지원하지 않기 때문에 한글로 처리하는 작업\n",
    "import matplotlib.font_manager as fm\n",
    "fontpath = '/usr/share/fonts/truetype/nanum/NanumBarunGothic.ttf'\n",
    "font = fm.FontProperties(fname=fontpath, size=9)\n",
    "plt.rc('font', family='NanumBarunGothic') \n",
    "mpl.font_manager.findfont(font)"
   ]
  },
  {
   "cell_type": "markdown",
   "id": "c3802070",
   "metadata": {},
   "source": [
    "### 데이터 준비하기"
   ]
  },
  {
   "cell_type": "code",
   "execution_count": 2,
   "id": "48371d05",
   "metadata": {},
   "outputs": [
    {
     "name": "stdout",
     "output_type": "stream",
     "text": [
      "2.6.0\n"
     ]
    }
   ],
   "source": [
    "import tensorflow as tf\n",
    "import numpy as np\n",
    "import pandas as pd\n",
    "\n",
    "\n",
    "from sklearn.model_selection import train_test_split\n",
    "\n",
    "import matplotlib.ticker as ticker\n",
    "import matplotlib.pyplot as plt\n",
    "\n",
    "import time\n",
    "import re\n",
    "import os\n",
    "\n",
    "print(tf.__version__)"
   ]
  },
  {
   "cell_type": "code",
   "execution_count": 3,
   "id": "9b6c1651",
   "metadata": {},
   "outputs": [
    {
     "name": "stdout",
     "output_type": "stream",
     "text": [
      "/aiffel/aiffel/korean-parallel-corpora\n"
     ]
    }
   ],
   "source": [
    "# tensforflow에서 제공하는 함수를 사용하여 데이터를 다운로드 받는다\n",
    "path = os.getenv(\"HOME\") + '/aiffel/korean-parallel-corpora'\n",
    "print(path)\n",
    "path_to_en = path +\"/korean-english-news-v1/korean-english-park.train.en\"\n",
    "path_to_kr = path +\"/korean-english-news-v1/korean-english-park.train.ko\""
   ]
  },
  {
   "cell_type": "code",
   "execution_count": 4,
   "id": "7719f5ce",
   "metadata": {},
   "outputs": [
    {
     "name": "stdout",
     "output_type": "stream",
     "text": [
      "Data Size: 94123\n",
      "Example:\n",
      ">> Much of personal computing is about \"can you top this?\"\n",
      ">> Amid mounting pressure on North Korea to abandon its nuclear weapons program Japanese and North Korean diplomats have resumed talks on normalizing diplomatic relations.\n",
      ">> “Guard robots are used privately and professionally to detect intruders or fire,” Karlsson said.\n",
      ">> Authorities from the Water Resources Ministry plan to begin construction next year on the controversial and hugely expensive project.\n",
      ">> Researchers also have debated whether weight-training has a big impact on the heart, since it does not give the heart and lungs the kind of workout they get from aerobic activities such as brisk walking or running for at least 20 minutes.\n"
     ]
    }
   ],
   "source": [
    "# 데이터 형태 읽어오기\n",
    "with open(path_to_en,'r', encoding='utf-8') as f:\n",
    "    raw_en = f.read().splitlines()\n",
    "\n",
    "print(\"Data Size:\", len(raw_en))\n",
    "print(\"Example:\")\n",
    "\n",
    "for sen in raw_en[:100][::20]: print(\">>\", sen)"
   ]
  },
  {
   "cell_type": "code",
   "execution_count": 5,
   "id": "14e5a38f",
   "metadata": {},
   "outputs": [
    {
     "name": "stdout",
     "output_type": "stream",
     "text": [
      "Data Size: 94123\n",
      "Example:\n",
      ">> 개인용 컴퓨터 사용의 상당 부분은 \"이것보다 뛰어날 수 있느냐?\"\n",
      ">> 북한의 핵무기 계획을 포기하도록 하려는 압력이 거세지고 있는 가운데, 일본과 북한의 외교관들이 외교 관계를 정상화하려는 회담을 재개했다.\n",
      ">> \"경호 로보트가 침입자나 화재를 탐지하기 위해서 개인적으로, 그리고 전문적으로 사용되고 있습니다.\"\n",
      ">> 수자원부 당국은 논란이 되고 있고, 막대한 비용이 드는 이 사업에 대해 내년에 건설을 시작할 계획이다.\n",
      ">> 또한 근력 운동은 활발하게 걷는 것이나 최소한 20분 동안 뛰는 것과 같은 유산소 활동에서 얻는 운동 효과를 심장과 폐에 주지 않기 때문에, 연구학자들은 근력 운동이 심장에 큰 영향을 미치는지 여부에 대해 논쟁을 해왔다.\n"
     ]
    }
   ],
   "source": [
    "# 데이터 형태 읽어오기\n",
    "with open(path_to_kr,'r', encoding='utf-8') as f:\n",
    "    raw_ko = f.read().splitlines()\n",
    "\n",
    "print(\"Data Size:\", len(raw_ko))\n",
    "print(\"Example:\")\n",
    "\n",
    "for sen in raw_ko[:100][::20]: print(\">>\", sen)"
   ]
  },
  {
   "cell_type": "code",
   "execution_count": 6,
   "id": "e886be52",
   "metadata": {},
   "outputs": [
    {
     "data": {
      "text/html": [
       "<div>\n",
       "<style scoped>\n",
       "    .dataframe tbody tr th:only-of-type {\n",
       "        vertical-align: middle;\n",
       "    }\n",
       "\n",
       "    .dataframe tbody tr th {\n",
       "        vertical-align: top;\n",
       "    }\n",
       "\n",
       "    .dataframe thead th {\n",
       "        text-align: right;\n",
       "    }\n",
       "</style>\n",
       "<table border=\"1\" class=\"dataframe\">\n",
       "  <thead>\n",
       "    <tr style=\"text-align: right;\">\n",
       "      <th></th>\n",
       "      <th>EN</th>\n",
       "      <th>KR</th>\n",
       "    </tr>\n",
       "  </thead>\n",
       "  <tbody>\n",
       "    <tr>\n",
       "      <th>0</th>\n",
       "      <td>Much of personal computing is about \"can you t...</td>\n",
       "      <td>개인용 컴퓨터 사용의 상당 부분은 \"이것보다 뛰어날 수 있느냐?\"</td>\n",
       "    </tr>\n",
       "    <tr>\n",
       "      <th>1</th>\n",
       "      <td>so a mention a few weeks ago about a rechargea...</td>\n",
       "      <td>모든 광마우스와 마찬가지 로 이 광마우스도 책상 위에 놓는 마우스 패드를 필요로 하...</td>\n",
       "    </tr>\n",
       "    <tr>\n",
       "      <th>2</th>\n",
       "      <td>Like all optical mice, But it also doesn't nee...</td>\n",
       "      <td>그러나 이것은 또한 책상도 필요로 하지 않는다.</td>\n",
       "    </tr>\n",
       "    <tr>\n",
       "      <th>3</th>\n",
       "      <td>uses gyroscopic sensors to control the cursor ...</td>\n",
       "      <td>79.95달러하는 이 최첨단 무선 광마우스는 허공에서 팔목, 팔, 그외에 어떤 부분...</td>\n",
       "    </tr>\n",
       "    <tr>\n",
       "      <th>4</th>\n",
       "      <td>Intelligence officials have revealed a spate o...</td>\n",
       "      <td>정보 관리들은 동남 아시아에서의 선박들에 대한 많은 (테러) 계획들이 실패로 돌아갔...</td>\n",
       "    </tr>\n",
       "    <tr>\n",
       "      <th>...</th>\n",
       "      <td>...</td>\n",
       "      <td>...</td>\n",
       "    </tr>\n",
       "    <tr>\n",
       "      <th>94118</th>\n",
       "      <td>””We are hoping to seize material evidence to ...</td>\n",
       "      <td>“우리는 3월 8일 김승연 회장과 그의 아들이 보복폭행에 가담한 혐의를 찾기 위해 ...</td>\n",
       "    </tr>\n",
       "    <tr>\n",
       "      <th>94119</th>\n",
       "      <td>” On Monday, police secured statements from si...</td>\n",
       "      <td>월요일 술집 종업원 6명은 김회장과 아들에게 폭행을 당했음을 진술했다고 경찰은 말했다.</td>\n",
       "    </tr>\n",
       "    <tr>\n",
       "      <th>94120</th>\n",
       "      <td>But the lack of material evidence is making it...</td>\n",
       "      <td>그러나 불충분한 증거 확보로 수사에 어려움이 있다.</td>\n",
       "    </tr>\n",
       "    <tr>\n",
       "      <th>94121</th>\n",
       "      <td>Kim and his son both deny the allegations.</td>\n",
       "      <td>김회장과 그의 아들은 보복폭행 혐의를 강력히 부인하고 있다.</td>\n",
       "    </tr>\n",
       "    <tr>\n",
       "      <th>94122</th>\n",
       "      <td>Police are planning to seek arrest warrants fo...</td>\n",
       "      <td>경찰은 김회장의 집무실에서 추가 증거를 찾은 이후 가능한 한 오늘 김회장과 아들을 ...</td>\n",
       "    </tr>\n",
       "  </tbody>\n",
       "</table>\n",
       "<p>94123 rows × 2 columns</p>\n",
       "</div>"
      ],
      "text/plain": [
       "                                                      EN  \\\n",
       "0      Much of personal computing is about \"can you t...   \n",
       "1      so a mention a few weeks ago about a rechargea...   \n",
       "2      Like all optical mice, But it also doesn't nee...   \n",
       "3      uses gyroscopic sensors to control the cursor ...   \n",
       "4      Intelligence officials have revealed a spate o...   \n",
       "...                                                  ...   \n",
       "94118  ””We are hoping to seize material evidence to ...   \n",
       "94119  ” On Monday, police secured statements from si...   \n",
       "94120  But the lack of material evidence is making it...   \n",
       "94121         Kim and his son both deny the allegations.   \n",
       "94122  Police are planning to seek arrest warrants fo...   \n",
       "\n",
       "                                                      KR  \n",
       "0                   개인용 컴퓨터 사용의 상당 부분은 \"이것보다 뛰어날 수 있느냐?\"  \n",
       "1      모든 광마우스와 마찬가지 로 이 광마우스도 책상 위에 놓는 마우스 패드를 필요로 하...  \n",
       "2                             그러나 이것은 또한 책상도 필요로 하지 않는다.  \n",
       "3      79.95달러하는 이 최첨단 무선 광마우스는 허공에서 팔목, 팔, 그외에 어떤 부분...  \n",
       "4      정보 관리들은 동남 아시아에서의 선박들에 대한 많은 (테러) 계획들이 실패로 돌아갔...  \n",
       "...                                                  ...  \n",
       "94118  “우리는 3월 8일 김승연 회장과 그의 아들이 보복폭행에 가담한 혐의를 찾기 위해 ...  \n",
       "94119   월요일 술집 종업원 6명은 김회장과 아들에게 폭행을 당했음을 진술했다고 경찰은 말했다.  \n",
       "94120                       그러나 불충분한 증거 확보로 수사에 어려움이 있다.  \n",
       "94121                  김회장과 그의 아들은 보복폭행 혐의를 강력히 부인하고 있다.  \n",
       "94122  경찰은 김회장의 집무실에서 추가 증거를 찾은 이후 가능한 한 오늘 김회장과 아들을 ...  \n",
       "\n",
       "[94123 rows x 2 columns]"
      ]
     },
     "execution_count": 6,
     "metadata": {},
     "output_type": "execute_result"
    }
   ],
   "source": [
    "df = pd.DataFrame(raw_en, columns = ['EN'])\n",
    "df['KR'] = np.array(raw_ko)\n",
    "df"
   ]
  },
  {
   "cell_type": "code",
   "execution_count": 7,
   "id": "83389ef1",
   "metadata": {},
   "outputs": [
    {
     "data": {
      "text/html": [
       "<div>\n",
       "<style scoped>\n",
       "    .dataframe tbody tr th:only-of-type {\n",
       "        vertical-align: middle;\n",
       "    }\n",
       "\n",
       "    .dataframe tbody tr th {\n",
       "        vertical-align: top;\n",
       "    }\n",
       "\n",
       "    .dataframe thead th {\n",
       "        text-align: right;\n",
       "    }\n",
       "</style>\n",
       "<table border=\"1\" class=\"dataframe\">\n",
       "  <thead>\n",
       "    <tr style=\"text-align: right;\">\n",
       "      <th></th>\n",
       "      <th>EN</th>\n",
       "      <th>KR</th>\n",
       "    </tr>\n",
       "  </thead>\n",
       "  <tbody>\n",
       "    <tr>\n",
       "      <th>0</th>\n",
       "      <td>Much of personal computing is about \"can you t...</td>\n",
       "      <td>개인용 컴퓨터 사용의 상당 부분은 \"이것보다 뛰어날 수 있느냐?\"</td>\n",
       "    </tr>\n",
       "    <tr>\n",
       "      <th>1</th>\n",
       "      <td>so a mention a few weeks ago about a rechargea...</td>\n",
       "      <td>모든 광마우스와 마찬가지 로 이 광마우스도 책상 위에 놓는 마우스 패드를 필요로 하...</td>\n",
       "    </tr>\n",
       "    <tr>\n",
       "      <th>2</th>\n",
       "      <td>Like all optical mice, But it also doesn't nee...</td>\n",
       "      <td>그러나 이것은 또한 책상도 필요로 하지 않는다.</td>\n",
       "    </tr>\n",
       "    <tr>\n",
       "      <th>3</th>\n",
       "      <td>uses gyroscopic sensors to control the cursor ...</td>\n",
       "      <td>79.95달러하는 이 최첨단 무선 광마우스는 허공에서 팔목, 팔, 그외에 어떤 부분...</td>\n",
       "    </tr>\n",
       "    <tr>\n",
       "      <th>4</th>\n",
       "      <td>Intelligence officials have revealed a spate o...</td>\n",
       "      <td>정보 관리들은 동남 아시아에서의 선박들에 대한 많은 (테러) 계획들이 실패로 돌아갔...</td>\n",
       "    </tr>\n",
       "  </tbody>\n",
       "</table>\n",
       "</div>"
      ],
      "text/plain": [
       "                                                  EN  \\\n",
       "0  Much of personal computing is about \"can you t...   \n",
       "1  so a mention a few weeks ago about a rechargea...   \n",
       "2  Like all optical mice, But it also doesn't nee...   \n",
       "3  uses gyroscopic sensors to control the cursor ...   \n",
       "4  Intelligence officials have revealed a spate o...   \n",
       "\n",
       "                                                  KR  \n",
       "0               개인용 컴퓨터 사용의 상당 부분은 \"이것보다 뛰어날 수 있느냐?\"  \n",
       "1  모든 광마우스와 마찬가지 로 이 광마우스도 책상 위에 놓는 마우스 패드를 필요로 하...  \n",
       "2                         그러나 이것은 또한 책상도 필요로 하지 않는다.  \n",
       "3  79.95달러하는 이 최첨단 무선 광마우스는 허공에서 팔목, 팔, 그외에 어떤 부분...  \n",
       "4  정보 관리들은 동남 아시아에서의 선박들에 대한 많은 (테러) 계획들이 실패로 돌아갔...  "
      ]
     },
     "execution_count": 7,
     "metadata": {},
     "output_type": "execute_result"
    }
   ],
   "source": [
    "# 중복 데이터 제거하기\n",
    "cleaned_corpus = df.drop(df[df['EN'].duplicated()].index)\n",
    "cleaned_corpus.head()"
   ]
  },
  {
   "cell_type": "code",
   "execution_count": 8,
   "id": "6ba46aaf",
   "metadata": {},
   "outputs": [
    {
     "data": {
      "text/plain": [
       "(75598, 2)"
      ]
     },
     "execution_count": 8,
     "metadata": {},
     "output_type": "execute_result"
    }
   ],
   "source": [
    "# 중복 데이터가 제거된 values cleaned corpus에 저장\n",
    "cleaned_corpus = cleaned_corpus[['EN','KR']].values\n",
    "cleaned_corpus.shape"
   ]
  },
  {
   "cell_type": "markdown",
   "id": "33f7d298",
   "metadata": {},
   "source": [
    "### Module"
   ]
  },
  {
   "cell_type": "code",
   "execution_count": 9,
   "id": "7d54d31f",
   "metadata": {},
   "outputs": [
    {
     "name": "stderr",
     "output_type": "stream",
     "text": [
      "[nltk_data] Downloading package stopwords to /aiffel/nltk_data...\n",
      "[nltk_data]   Unzipping corpora/stopwords.zip.\n",
      "[nltk_data] Downloading package wordnet to /aiffel/nltk_data...\n"
     ]
    }
   ],
   "source": [
    "from nltk.corpus import stopwords\n",
    "\n",
    "from nltk.tokenize import word_tokenize\n",
    "\n",
    "# 표제어 추출\n",
    "import nltk\n",
    "nltk.download('stopwords')\n",
    "nltk.download('wordnet')\n",
    "from nltk.stem import WordNetLemmatizer\n",
    "le = WordNetLemmatizer()\n",
    "\n",
    "# \n",
    "from nltk.stem import PorterStemmer\n",
    "stemmer = PorterStemmer()"
   ]
  },
  {
   "cell_type": "code",
   "execution_count": 10,
   "id": "6e5bb9d4",
   "metadata": {},
   "outputs": [],
   "source": [
    "# 데이터 전처리 함수 재정의\n",
    "# https://gggggeun.tistory.com/183\n",
    "def preprocessing(sentence, is_english=True):\n",
    "    # 한국어 불용어 list\n",
    "    stopwords_kr = ['의', '가','로', '이', '은', '들', '는', '좀', '잘', '걍', '과', '도', '를', '으로', '자', '에', '와', '한','가량',  '간', '갖은', '개국', '개년', '개소', '개월', '걔', '거', ]\n",
    "    #Lucene = '거기, 건, 것, 겨를, 격, 겸, 고, 군, 군데, 권, 그, 그거, 그것, 그곳, 그까짓, 그네,  그놈, 그대, 그래, 그래도,그서, 그러나, 그러니, 그러니까, 그러다가, 그러면, 그러면서, 그러므로, 그러자, 그런, 그런데, 그럼, 그렇지만, 그루, 그리고, 그리하여, 그분, 그이, 그쪽, 근, 근데, 글쎄, 글쎄요, 기,김, 나름, 나위, 남짓,  냥, 너, 너희, 네, 네놈, 녀석, 년대, 년도, 놈, 누구, 니,다른, 다만, 단, 달 대, 대로, 더,구나, 더욱이, 데, 도, 동, 되, 두, 두세, 두어,둥, 듯, 듯이, 등, 등등, 등지, 따라서, 따름, 따위, 딴, 때문, 또, 또는, 또한, 리, 마당, 마련,마리, 만, 만큼, 말, 맨, 몇, 몇몇, 모, 모금, 모든, 무렵, 무슨, 뭐, 뭣, 미터,및, 바, 박, 발, 발짝, 번, 법, 별, 본, 부, 분, 뻔, 뿐, 살,서너, 석, 설,섬, 세, 세기, 셈, 쇤네, 수, 순, 스무, 승, 시, 시간, 식, 씨, 아, 아냐, 아니,아무개, 아무런, 아아, 아이, 아이고, 아이구, 야, 약, 양, 얘, 어,  어머, 에이,엔, 여기, 여느, 여보, 여보세요, 여지, 역시, 예, 옛, 오, 오랜, 오히려, 온, 온갖,올, 왜냐하면, 왠, 외, 요, 우리, 원, 월, 웬, 위, 음, 응, 이, 이거, 이것, 이곳, 이놈, 이래,이런, 이런저런, 이른바, 이리하여, 이쪽, 일, 일대, 임마, 자, 자기, 자네, 장, 저, 저것, 저기,저놈, 저런, 저쪽, 저편, 저희, 적, 전, 점, 제, 조, 주, 주년, 주일, 줄, 중, 즈음, 즉, 지, 지경, 짝, 쪽, 쯤, 차, 참, 채, 척, 첫, 체, 초, 총, 측, 치, 타, 터, 턱, 톤,통, 투, 판, 퍼센트, 편, 평, 푼, 하기야, 하긴, 하물며, 하지만, 한, 한두, 한편, 허허, 헌, 현,호, 회, 흥'.split(', ')\n",
    "    #stopwords_kr += Lucene\n",
    "    \n",
    "    # 영어 불용어 list - NLTK\n",
    "    stopwords_en = set(stopwords.words('english'))\n",
    "\n",
    "    sentence = sentence.lower().strip()\n",
    "    \n",
    "    # 영어\n",
    "    if is_english:\n",
    "        # 1-2글자 제거\n",
    "        sentence = re.sub(r\"[^a-zA-Z?.!,]+\", \" \", sentence)\n",
    "        sentence = sentence.split()\n",
    "        # 불용어 제거\n",
    "        sentence = [word for word in sentence if word not in stopwords_en]\n",
    "        # 표제어 추출\n",
    "        sentence = [le.lemmatize(word) for word in sentence]\n",
    "        # 어간 추출\n",
    "        #sentence = [stemmer.stem(word) for word in sentence]\n",
    "\n",
    "        sentence = ['<start>'] + sentence + ['<end>']\n",
    "        sentence = ' '.join(sentence)\n",
    "    # 한국어\n",
    "    else:\n",
    "        sentence = re.sub(r\"[^ㄱ-ㅎㅏ-ㅣ가-힣 ]+\", \"\", sentence)\n",
    "        sentence = mecab.morphs(sentence)\n",
    "        sentence = [word for word in sentence if word not in stopwords_kr]\n",
    "        sentence = ' '.join(sentence)\n",
    "\n",
    "\n",
    "    return sentence"
   ]
  },
  {
   "cell_type": "code",
   "execution_count": 11,
   "id": "3d6831ac",
   "metadata": {},
   "outputs": [],
   "source": [
    "# 토큰화\n",
    "def tokenize(corpus):\n",
    "    # out of vocabulary에 토큰 처리 - nan 값에 '0'으로 대체했기 때문에 처리한다\n",
    "    tokenizer = tf.keras.preprocessing.text.Tokenizer(num_words = 10000 ,filters ='')\n",
    "    tokenizer.fit_on_texts(corpus)\n",
    "\n",
    "    tensor = tokenizer.texts_to_sequences(corpus)\n",
    "\n",
    "    # padding을 해주고 maxlen은 문장 최대 길이로 설정했다\n",
    "    tensor = tf.keras.preprocessing.sequence.pad_sequences(tensor, padding='post',maxlen = 50)\n",
    "\n",
    "    return tensor, tokenizer"
   ]
  },
  {
   "cell_type": "code",
   "execution_count": 12,
   "id": "190533ad",
   "metadata": {},
   "outputs": [],
   "source": [
    "# Bahdanau alignment score Attention\n",
    "class BahdanauAttention(tf.keras.layers.Layer):\n",
    "    def __init__(self, units):\n",
    "        super(BahdanauAttention, self).__init__()\n",
    "        self.w_dec = tf.keras.layers.Dense(units)\n",
    "        self.w_enc = tf.keras.layers.Dense(units)\n",
    "        self.w_com = tf.keras.layers.Dense(1)\n",
    "    \n",
    "    def call(self, h_enc, h_dec):\n",
    "        # h_enc shape: [batch x length x units]\n",
    "        # h_dec shape: [batch x units]\n",
    "        \n",
    "        #  W * h_enc\n",
    "        h_enc = self.w_enc(h_enc)\n",
    "        h_dec = tf.expand_dims(h_dec, 1)\n",
    "        # W * h_dec\n",
    "        h_dec = self.w_dec(h_dec)\n",
    "        \n",
    "        #  Bahdanau , w_com -> V.T\n",
    "        score = self.w_com(tf.nn.tanh(h_dec + h_enc))\n",
    "        \n",
    "        # alignment score 값을 확률분포로 만들어준다\n",
    "        attn = tf.nn.softmax(score, axis=1)\n",
    "        \n",
    "        # C = W(attn) * h_encoder\n",
    "        context_vec = attn * h_enc\n",
    "        # 출력된 값의 합을 구하면 각 timestep마다 주목해야 할 단어에 강조되는 context vector를 구할 수 있따.\n",
    "        context_vec = tf.reduce_sum(context_vec, axis=1)\n",
    "\n",
    "        return context_vec, attn\n",
    "\n",
    "    "
   ]
  },
  {
   "cell_type": "code",
   "execution_count": 13,
   "id": "421ede3d",
   "metadata": {},
   "outputs": [],
   "source": [
    "# GRU 인코더\n",
    "class Encoder(tf.keras.Model):\n",
    "    def __init__(self, vocab_size, embedding_dim, enc_units):\n",
    "        super(Encoder, self).__init__()\n",
    "        \n",
    "        self.enc_units = enc_units\n",
    "        self.embedding = tf.keras.layers.Embedding(vocab_size, embedding_dim)\n",
    "        self.gru = tf.keras.layers.GRU(enc_units,\n",
    "                                       return_sequences=True)\n",
    "        \n",
    "    def call(self, x):\n",
    "        out = self.embedding(x)\n",
    "        out = self.gru(out)\n",
    "        \n",
    "        return out"
   ]
  },
  {
   "cell_type": "code",
   "execution_count": 14,
   "id": "704442da",
   "metadata": {},
   "outputs": [],
   "source": [
    "# GRU 디코더\n",
    "class Decoder(tf.keras.Model):\n",
    "    def __init__(self, vocab_size, embedding_dim, dec_units):\n",
    "        super(Decoder, self).__init__()\n",
    "        self.dec_units = dec_units\n",
    "        self.embedding = tf.keras.layers.Embedding(vocab_size, embedding_dim)\n",
    "        self.gru = tf.keras.layers.GRU(dec_units,\n",
    "                                       return_sequences=True,\n",
    "                                       return_state=True)\n",
    "        #self.masking = Masking(mask_value=0.0)\n",
    "        self.fc = tf.keras.layers.Dense(vocab_size)\n",
    "\n",
    "        self.attention = BahdanauAttention(self.dec_units)\n",
    "\n",
    "    def call(self, x, h_dec, enc_out):\n",
    "        context_vec, attn = self.attention(enc_out, h_dec)\n",
    "\n",
    "        out = self.embedding(x)\n",
    "        #out = self.masking(out)\n",
    "        out = tf.concat([tf.expand_dims(context_vec, 1), out], axis=-1)\n",
    "        \n",
    "        out, h_dec = self.gru(out)\n",
    "        out = tf.reshape(out, (-1, out.shape[2]))\n",
    "        out = self.fc(out)\n",
    "\n",
    "        return out, h_dec, attn"
   ]
  },
  {
   "cell_type": "code",
   "execution_count": 15,
   "id": "52a656dc",
   "metadata": {},
   "outputs": [],
   "source": [
    "# 평가\n",
    "def evaluate(sentence, encoder, decoder):\n",
    "    attention = np.zeros((dec_train.shape[-1], enc_train.shape[-1]))\n",
    "    \n",
    "    sentence = preprocess_sentence(sentence)\n",
    "    inputs = enc_tokenizer.texts_to_sequences([sentence.split()])\n",
    "    inputs = tf.keras.preprocessing.sequence.pad_sequences(inputs,\n",
    "                                                           maxlen=enc_train.shape[-1],\n",
    "                                                           padding='post')\n",
    "\n",
    "    result = ''\n",
    "\n",
    "    enc_out = encoder(inputs)\n",
    "\n",
    "    dec_hidden = enc_out[:, -1]\n",
    "    dec_input = tf.expand_dims([dec_tokenizer.word_index['<start>']], 0)\n",
    "\n",
    "    for t in range(dec_train.shape[-1]):\n",
    "        predictions, dec_hidden, attention_weights = decoder(dec_input,\n",
    "                                                             dec_hidden,\n",
    "                                                             enc_out)\n",
    "\n",
    "        attention_weights = tf.reshape(attention_weights, (-1, ))\n",
    "        attention[t] = attention_weights.numpy()\n",
    "\n",
    "        predicted_id = \\\n",
    "        tf.argmax(tf.math.softmax(predictions, axis=-1)[0]).numpy()\n",
    "\n",
    "        result += dec_tokenizer.index_word[predicted_id] + ' '\n",
    "\n",
    "        if dec_tokenizer.index_word[predicted_id] == '<end>':\n",
    "            return result, sentence, attention\n",
    "\n",
    "        dec_input = tf.expand_dims([predicted_id], 0)\n",
    "\n",
    "    return result, sentence, attention\n",
    "\n",
    "# Attention map 시각화\n",
    "def plot_attention(attention, sentence, predicted_sentence):\n",
    "    fig = plt.figure(figsize=(5,5))\n",
    "    ax = fig.add_subplot(1, 1, 1)\n",
    "    ax.matshow(attention, cmap='viridis')\n",
    "\n",
    "    fontdict = {'fontsize': 14}\n",
    "\n",
    "    ax.set_xticklabels([''] + sentence, fontdict=fontdict, rotation=90)\n",
    "    ax.set_yticklabels([''] + predicted_sentence, fontdict=fontdict)\n",
    "\n",
    "    #ax.xaxis.set_major_locator(ticker.MultipleLocator(1))\n",
    "    #ax.yaxis.set_major_locator(ticker.MultipleLocator(1))\n",
    "    ax.xaxis.set_major_locator(ticker.FixedLocator(np.arange(len(sentence) + 1)))\n",
    "    ax.yaxis.set_major_locator(ticker.FixedLocator(np.arange(len(predicted_sentence) + 1)))\n",
    "\n",
    "\n",
    "    plt.show()\n",
    "\n",
    "# 번역\n",
    "def translate(sentence, encoder, decoder):\n",
    "    result, sentence, attention = evaluate(sentence, encoder, decoder)\n",
    "\n",
    "    print('Input: %s' % (sentence))\n",
    "    print('Predicted translation: {}'.format(result))\n",
    "    \n",
    "    attention = attention[:len(result.split()), :len(sentence.split())]\n",
    "    plot_attention(attention, sentence.split(), result.split(' '))\n",
    "\n",
    "\n"
   ]
  },
  {
   "cell_type": "code",
   "execution_count": 16,
   "id": "522fc0e7",
   "metadata": {},
   "outputs": [],
   "source": [
    "# 손실 함수 정의\n",
    "optimizer = tf.keras.optimizers.Adam()\n",
    "loss_object = tf.keras.losses.SparseCategoricalCrossentropy(\n",
    "    from_logits=True, reduction='none')\n",
    "\n",
    "def loss_function(real, pred):\n",
    "    mask = tf.math.logical_not(tf.math.equal(real, 0))\n",
    "    loss = loss_object(real, pred)\n",
    "    \n",
    "    mask = tf.cast(mask, dtype=loss.dtype)\n",
    "    loss *= mask\n",
    "    \n",
    "    return tf.reduce_mean(loss)\n"
   ]
  },
  {
   "cell_type": "code",
   "execution_count": 17,
   "id": "b5d06955",
   "metadata": {},
   "outputs": [],
   "source": [
    "# train step으로 loss를 계산한 후 반환하는 함수\n",
    "#@tf.function\n",
    "def train_step(src, tgt, encoder, decoder, optimizer, dec_tok):\n",
    "    bsz = src.shape[0]\n",
    "    loss = 0\n",
    "    \n",
    "    # 모든 연산을 기록하는 테이프 , 스텝의 최종 단계에서 미분 값을 구하는데 사용된다\n",
    "    with tf.GradientTape() as tape:\n",
    "        enc_out = encoder(src)\n",
    "        h_dec = enc_out[:, -1]\n",
    "        \n",
    "        dec_src = tf.expand_dims([dec_tok.word_index['<start>']] * bsz, 1)\n",
    "\n",
    "        for t in range(1, tgt.shape[1]):\n",
    "            pred, h_dec, _ = decoder(dec_src, h_dec, enc_out)\n",
    "\n",
    "            loss += loss_function(tgt[:, t], pred)\n",
    "            dec_src = tf.expand_dims(tgt[:, t], 1)\n",
    "        \n",
    "    batch_loss = (loss / int(tgt.shape[1]))\n",
    "\n",
    "    variables = encoder.trainable_variables + decoder.trainable_variables\n",
    "    gradients = tape.gradient(loss, variables)\n",
    "    optimizer.apply_gradients(zip(gradients, variables))\n",
    "    \n",
    "    return batch_loss\n"
   ]
  },
  {
   "cell_type": "code",
   "execution_count": 18,
   "id": "9e34951f",
   "metadata": {},
   "outputs": [],
   "source": [
    "# Test loss \n",
    "#@tf.function\n",
    "def eval_step(src, tgt, encoder, decoder, dec_tok):\n",
    "    bsz = src.shape[0]\n",
    "    loss = 0\n",
    "\n",
    "    enc_out = encoder(src)\n",
    "\n",
    "    h_dec = enc_out[:, -1]\n",
    "    \n",
    "    dec_src = tf.expand_dims([dec_tok.word_index['<start>']] * bsz, 1)\n",
    "\n",
    "    for t in range(1, tgt.shape[1]):\n",
    "        pred, h_dec, _ = decoder(dec_src, h_dec, enc_out)\n",
    "\n",
    "        loss += loss_function(tgt[:, t], pred)\n",
    "        dec_src = tf.expand_dims(tgt[:, t], 1)\n",
    "        \n",
    "    batch_loss = (loss / int(tgt.shape[1]))\n",
    "    \n",
    "    return batch_loss"
   ]
  },
  {
   "cell_type": "code",
   "execution_count": 19,
   "id": "d02fc419",
   "metadata": {},
   "outputs": [],
   "source": [
    "from konlpy.tag import Mecab\n",
    "\n",
    "mecab = Mecab()\n",
    "\n",
    "def preprocess_sentence(sentence, is_english=False, s_token=False, e_token=False):\n",
    "    # 한국어 불용어 list\n",
    "    stopwords_kr = ['의', '가','로', '이', '은', '들', '는', '좀', '잘', '걍', '과', '도', '를', '으로', '자', '에', '와', '한','가량', '간', '갖은', '개국', '개년', '개소', '개월', '걔', '거' ]\n",
    "    #Lucene = '거기, 건, 것, 겨를, 격, 겸, 고, 군, 군데, 권, 그, 그거, 그것, 그곳, 그까짓, 그네,  그놈, 그대, 그래, 그래도,그서, 그러나, 그러니, 그러니까, 그러다가, 그러면, 그러면서, 그러므로, 그러자, 그런, 그런데, 그럼, 그렇지만, 그루, 그리고, 그리하여, 그분, 그이, 그쪽, 근, 근데, 글쎄, 글쎄요, 기,김, 나름, 나위, 남짓,  냥, 너, 너희, 네, 네놈, 녀석, 년대, 년도, 놈, 누구, 니,다른, 다만, 단, 달 대, 대로, 더,구나, 더욱이, 데, 도, 동, 되, 두, 두세, 두어,둥, 듯, 듯이, 등, 등등, 등지, 따라서, 따름, 따위, 딴, 때문, 또, 또는, 또한, 리, 마당, 마련,마리, 만, 만큼, 말, 맨, 몇, 몇몇, 모, 모금, 모든, 무렵, 무슨, 뭐, 뭣, 미터,및, 바, 박, 발, 발짝, 번, 법, 별, 본, 부, 분, 뻔, 뿐, 살,서너, 석, 설,섬, 세, 세기, 셈, 쇤네, 수, 순, 스무, 승, 시, 시간, 식, 씨, 아, 아냐, 아니,아무개, 아무런, 아아, 아이, 아이고, 아이구, 야, 약, 양, 얘, 어,  어머, 에이,엔, 여기, 여느, 여보, 여보세요, 여지, 역시, 예, 옛, 오, 오랜, 오히려, 온, 온갖,올, 왜냐하면, 왠, 외, 요, 우리, 원, 월, 웬, 위, 음, 응, 이, 이거, 이것, 이곳, 이놈, 이래,이런, 이런저런, 이른바, 이리하여, 이쪽, 일, 일대, 임마, 자, 자기, 자네, 장, 저, 저것, 저기,저놈, 저런, 저쪽, 저편, 저희, 적, 전, 점, 제, 조, 주, 주년, 주일, 줄, 중, 즈음, 즉, 지, 지경, 짝, 쪽, 쯤, 차, 참, 채, 척, 첫, 체, 초, 총, 측, 치, 타, 터, 턱, 톤,통, 투, 판, 퍼센트, 편, 평, 푼, 하기야, 하긴, 하물며, 하지만, 한, 한두, 한편, 허허, 헌, 현,호, 회, 흥'.split(', ')\n",
    "    #stopwords_kr += Lucene\n",
    "    \n",
    "    # 영어 불용어 list - NLTK\n",
    "    stopwords_en = set(stopwords.words('english'))\n",
    "    sentence = sentence.lower().strip()\n",
    "    if is_english:\n",
    "        # 1-2글자 제거\n",
    "        sentence = re.sub(r\"[^a-zA-Z?.!,]+\", \" \", sentence)\n",
    "        sentence = sentence.strip()\n",
    "    \n",
    "    else:\n",
    "        sentence = re.sub(r\"[^ㄱ-ㅎㅏ-ㅣ가-힣 ]+\", \"\", sentence)\n",
    "        sentence = mecab.morphs(sentence)\n",
    "        tokens = [word for word in sentence if word not in stopwords_kr]\n",
    "        sentence = \" \".join(tokens)\n",
    "\n",
    "    if s_token:\n",
    "        sentence = '<start> ' + sentence\n",
    "\n",
    "    if e_token:\n",
    "        sentence += ' <end>'\n",
    "    \n",
    "    return sentence\n"
   ]
  },
  {
   "cell_type": "markdown",
   "id": "c2720346",
   "metadata": {},
   "source": [
    "### 데이터 준비"
   ]
  },
  {
   "cell_type": "code",
   "execution_count": 20,
   "id": "a2dd3a9e",
   "metadata": {},
   "outputs": [
    {
     "data": {
      "text/plain": [
       "\"Like all optical mice, But it also doesn't need a desk.\""
      ]
     },
     "execution_count": 20,
     "metadata": {},
     "output_type": "execute_result"
    }
   ],
   "source": [
    "# data load 함수\n",
    "# 전처리, 토큰화 , train_test_split\n",
    "cleaned_corpus[2][0]"
   ]
  },
  {
   "cell_type": "code",
   "execution_count": 21,
   "id": "92b597f6",
   "metadata": {},
   "outputs": [
    {
     "name": "stdout",
     "output_type": "stream",
     "text": [
      "<start> much personal computing top this? <end>\n",
      "모든 광 마우스 마찬가지 광 마우스 책상 위 놓 마우스 패드 필요 하 지 않 는다\n"
     ]
    }
   ],
   "source": [
    "from konlpy.tag import Mecab\n",
    "# 데이터 상위 3만개 사용\n",
    "num_examples = 30000\n",
    "\n",
    "# 추가된 한글 정규식 및 Mecab 객체 생성\n",
    "#kr_pattern = re.compile(\"[^ㄱ-ㅎㅏ-ㅣ가-힣 ]+\")\n",
    "mecab = Mecab()\n",
    "\n",
    "cleaned_corpus_en = [preprocessing(en[0], is_english=True) for en in cleaned_corpus]\n",
    "cleaned_corpus_kr = [preprocessing(kr[1], is_english=False) for kr in cleaned_corpus]\n",
    "\n",
    "print(cleaned_corpus_en[0])\n",
    "print(cleaned_corpus_kr[1])"
   ]
  },
  {
   "cell_type": "code",
   "execution_count": 22,
   "id": "962c675d",
   "metadata": {},
   "outputs": [
    {
     "name": "stdout",
     "output_type": "stream",
     "text": [
      "<start> mention week ago rechargeable wireless optical mouse brought another rechargeable, wireless mouse. <end>\n",
      "모든 광 마우스 마찬가지 광 마우스 책상 위 놓 마우스 패드 필요 하 지 않 는다\n"
     ]
    }
   ],
   "source": [
    "print(cleaned_corpus_en[1])\n",
    "print(cleaned_corpus_kr[1])"
   ]
  },
  {
   "cell_type": "code",
   "execution_count": 23,
   "id": "359382c3",
   "metadata": {},
   "outputs": [
    {
     "name": "stdout",
     "output_type": "stream",
     "text": [
      "75598\n",
      "75598\n"
     ]
    }
   ],
   "source": [
    "print(len(cleaned_corpus_en))\n",
    "print(len(cleaned_corpus_kr))"
   ]
  },
  {
   "cell_type": "code",
   "execution_count": 24,
   "id": "661ca6fe",
   "metadata": {},
   "outputs": [],
   "source": [
    "# 토큰 길이가 40 이하인 데이터 선별\n",
    "eng_corpus = [en for i,(en,kr) in enumerate(zip(cleaned_corpus_en,cleaned_corpus_kr))  if len(kr) < 40]\n",
    "kor_corpus = [kr for i,(en,kr) in enumerate(zip(cleaned_corpus_en,cleaned_corpus_kr))  if len(kr) < 40]\n",
    "\n",
    "\n",
    "#eng_corpus_df = pd.DataFrame(cleaned_corpus_en)\n",
    "#kor_corpus_df = pd.DataFrame(cleaned_corpus_kr)\n",
    "##kor_corpus_v = kor_corpus_df.drop(pd.DataFrame(kor_corpus).index).fillna('0').values.tolist()\n",
    "#eng_corpus_v = eng_corpus_df.drop(pd.DataFrame(kor_corpus).index).fillna('0').values.tolist()"
   ]
  },
  {
   "cell_type": "code",
   "execution_count": 25,
   "id": "50f55dba",
   "metadata": {},
   "outputs": [
    {
     "name": "stdout",
     "output_type": "stream",
     "text": [
      "Number of English Sentences: 17888\n",
      "Number of Korean Sentences: 17888\n"
     ]
    }
   ],
   "source": [
    "# 결과 확인\n",
    "print(\"Number of English Sentences:\", len(eng_corpus))\n",
    "print(\"Number of Korean Sentences:\", len(kor_corpus))"
   ]
  },
  {
   "cell_type": "code",
   "execution_count": 26,
   "id": "d9d53095",
   "metadata": {},
   "outputs": [
    {
     "data": {
      "text/plain": [
       "'<start> something boost capability crucial moment important. <end>'"
      ]
     },
     "execution_count": 26,
     "metadata": {},
     "output_type": "execute_result"
    }
   ],
   "source": [
    "eng_corpus[2]"
   ]
  },
  {
   "cell_type": "code",
   "execution_count": 27,
   "id": "e00dca51",
   "metadata": {},
   "outputs": [
    {
     "data": {
      "text/plain": [
       "'결정 적 인 순간 그 능력 을 증가 시켜 줄 그 무엇 매우 중요 합니다'"
      ]
     },
     "execution_count": 27,
     "metadata": {},
     "output_type": "execute_result"
    }
   ],
   "source": [
    "kor_corpus[2]"
   ]
  },
  {
   "cell_type": "code",
   "execution_count": 28,
   "id": "b6687eb0",
   "metadata": {},
   "outputs": [
    {
     "name": "stdout",
     "output_type": "stream",
     "text": [
      "84\n",
      "33\n"
     ]
    }
   ],
   "source": [
    "start = 0\n",
    "for d in eng_corpus:\n",
    "    maxlen = max(start, len(d))\n",
    "    start = len(d)\n",
    "print(maxlen)\n",
    "start = 0\n",
    "for d in kor_corpus:\n",
    "    maxlen = max(start, len(d))\n",
    "    start = len(d)\n",
    "print(maxlen)"
   ]
  },
  {
   "cell_type": "markdown",
   "id": "44dffe18",
   "metadata": {},
   "source": [
    "### 데이터 전처리 : 토큰화"
   ]
  },
  {
   "cell_type": "code",
   "execution_count": 29,
   "id": "17cf10fa",
   "metadata": {},
   "outputs": [
    {
     "name": "stdout",
     "output_type": "stream",
     "text": [
      "Encoder Train: (17888, 50)\n",
      "Decoder Train: (17888, 50)\n"
     ]
    }
   ],
   "source": [
    "# Tokenize the preprocessed sentences\n",
    "enc_tensor, enc_tokenizer =  tokenize(kor_corpus)\n",
    "dec_tensor, dec_tokenizer = tokenize(eng_corpus)\n",
    "\n",
    "# Split the data into training and validation sets\n",
    "#enc_train, enc_val, dec_train, dec_val = train_test_split(enc_tensor, dec_tensor, test_size=0.2)\n",
    "\n",
    "# Display the shapes of the training and valida|tion sets\n",
    "print(\"Encoder Train:\", enc_tensor.shape)\n",
    "print(\"Decoder Train:\", dec_tensor.shape)\n",
    "\n",
    "# You can also display the shapes of the validation sets if needed\n",
    "#print(\"Encoder Validation:\", enc_val.shape)\n",
    "#print(\"Decoder Validation:\", dec_val.shape)\n"
   ]
  },
  {
   "cell_type": "code",
   "execution_count": 30,
   "id": "aeb2b0f3",
   "metadata": {},
   "outputs": [
    {
     "name": "stdout",
     "output_type": "stream",
     "text": [
      "16913 24272\n"
     ]
    }
   ],
   "source": [
    "print(len(enc_tokenizer.index_word),\n",
    "len(dec_tokenizer.index_word) + 1)"
   ]
  },
  {
   "cell_type": "markdown",
   "id": "85831f4c",
   "metadata": {},
   "source": [
    "### 모델 설계"
   ]
  },
  {
   "cell_type": "code",
   "execution_count": 31,
   "id": "09d7d68b",
   "metadata": {
    "scrolled": false
   },
   "outputs": [
    {
     "name": "stdout",
     "output_type": "stream",
     "text": [
      "Encoder Output: (64, 50, 128)\n",
      "Decoder Output: (64, 24272)\n",
      "Decoder Hidden State: (64, 128)\n",
      "Attention: (64, 50, 1)\n"
     ]
    }
   ],
   "source": [
    "from tensorflow.keras.layers import Masking\n",
    "# 코드를 실행하세요.\n",
    "BATCH_SIZE     = 64\n",
    "SRC_VOCAB_SIZE = len(enc_tokenizer.index_word) + 1\n",
    "TGT_VOCAB_SIZE = len(dec_tokenizer.index_word) + 1\n",
    "\n",
    "units         = 128\n",
    "embedding_dim = 256\n",
    "\n",
    "# GRU Encoder 생성\n",
    "encoder = Encoder(SRC_VOCAB_SIZE, embedding_dim, units)\n",
    "# GRU Decoder 생성\n",
    "decoder = Decoder(TGT_VOCAB_SIZE, embedding_dim, units)\n",
    "\n",
    "# sample input\n",
    "sequence_len = 50\n",
    "\n",
    "sample_enc = tf.random.uniform((BATCH_SIZE, sequence_len))\n",
    "# Encoder Output\n",
    "sample_output = encoder(sample_enc)\n",
    "\n",
    "print ('Encoder Output:', sample_output.shape)\n",
    "\n",
    "sample_state = tf.random.uniform((BATCH_SIZE, units))\n",
    "# Decoder output - decoder hidden state, attention\n",
    "sample_logits, h_dec, attn = decoder(tf.random.uniform((BATCH_SIZE, 1)),\n",
    "                                     sample_state, sample_output)\n",
    "\n",
    "print ('Decoder Output:', sample_logits.shape)\n",
    "print ('Decoder Hidden State:', h_dec.shape)\n",
    "print ('Attention:', attn.shape)"
   ]
  },
  {
   "cell_type": "markdown",
   "id": "fda58b2c",
   "metadata": {},
   "source": [
    "### 훈련하기 - Optimizer & Loss"
   ]
  },
  {
   "cell_type": "code",
   "execution_count": 32,
   "id": "0d0e4c2a",
   "metadata": {},
   "outputs": [
    {
     "name": "stdout",
     "output_type": "stream",
     "text": [
      "[ 202 6484 6485  584 2628   81  166   48   27    4    2    8    1    0\n",
      "    0    0    0    0    0    0    0    0    0    0    0    0    0    0\n",
      "    0    0    0    0    0    0    0    0    0    0    0    0    0    0\n",
      "    0    0    0    0    0    0    0    0]\n",
      "[   1   13 7721   35  697  253  518   59   54    2    0    0    0    0\n",
      "    0    0    0    0    0    0    0    0    0    0    0    0    0    0\n",
      "    0    0    0    0    0    0    0    0    0    0    0    0    0    0\n",
      "    0    0    0    0    0    0    0    0]\n"
     ]
    }
   ],
   "source": [
    "print(enc_tensor[30])\n",
    "print(dec_tensor[30])"
   ]
  },
  {
   "cell_type": "code",
   "execution_count": 34,
   "id": "f81b43a7",
   "metadata": {},
   "outputs": [
    {
     "name": "stderr",
     "output_type": "stream",
     "text": [
      "Epoch  1: 100%|██████████| 280/280 [03:13<00:00,  1.45it/s, Loss 1.2817]\n",
      "Epoch  2: 100%|██████████| 280/280 [03:14<00:00,  1.44it/s, Loss 1.2310]\n",
      "Epoch  3: 100%|██████████| 280/280 [03:18<00:00,  1.41it/s, Loss 1.2309]\n",
      "Epoch  4: 100%|██████████| 280/280 [03:21<00:00,  1.39it/s, Loss 1.2299]\n",
      "Epoch  5: 100%|██████████| 280/280 [03:22<00:00,  1.38it/s, Loss 1.2290]\n",
      "Epoch  6: 100%|██████████| 280/280 [03:22<00:00,  1.38it/s, Loss 1.2028]\n",
      "Epoch  7: 100%|██████████| 280/280 [03:26<00:00,  1.36it/s, Loss 1.1763]\n",
      "Epoch  8: 100%|██████████| 280/280 [03:25<00:00,  1.36it/s, Loss 1.1530]\n",
      "Epoch  9: 100%|██████████| 280/280 [03:25<00:00,  1.36it/s, Loss 1.1253]\n",
      "Epoch 10: 100%|██████████| 280/280 [03:25<00:00,  1.36it/s, Loss 1.0990]\n",
      "Epoch 11: 100%|██████████| 280/280 [03:24<00:00,  1.37it/s, Loss 1.0735]\n",
      "Epoch 12: 100%|██████████| 280/280 [03:24<00:00,  1.37it/s, Loss 1.0469]\n",
      "Epoch 13: 100%|██████████| 280/280 [03:29<00:00,  1.33it/s, Loss 1.0200]\n",
      "Epoch 14: 100%|██████████| 280/280 [03:30<00:00,  1.33it/s, Loss 0.9933]\n",
      "Epoch 15: 100%|██████████| 280/280 [03:27<00:00,  1.35it/s, Loss 0.9670]\n",
      "Epoch 16: 100%|██████████| 280/280 [03:29<00:00,  1.34it/s, Loss 0.9411]\n",
      "Epoch 17: 100%|██████████| 280/280 [03:28<00:00,  1.34it/s, Loss 0.9153]\n",
      "Epoch 18: 100%|██████████| 280/280 [03:29<00:00,  1.34it/s, Loss 0.8902]\n",
      "Epoch 19: 100%|██████████| 280/280 [03:29<00:00,  1.34it/s, Loss 0.8655]\n",
      "Epoch 20: 100%|██████████| 280/280 [03:28<00:00,  1.35it/s, Loss 0.8407]\n",
      "Epoch 21: 100%|██████████| 280/280 [03:28<00:00,  1.35it/s, Loss 0.8160]\n",
      "Epoch 22: 100%|██████████| 280/280 [03:28<00:00,  1.34it/s, Loss 0.7927]\n",
      "Epoch 23: 100%|██████████| 280/280 [03:28<00:00,  1.34it/s, Loss 0.7694]\n",
      "Epoch 24: 100%|██████████| 280/280 [03:26<00:00,  1.36it/s, Loss 0.7466]\n",
      "Epoch 25: 100%|██████████| 280/280 [03:26<00:00,  1.36it/s, Loss 0.7241]\n",
      "Epoch 26: 100%|██████████| 280/280 [03:26<00:00,  1.35it/s, Loss 0.7022]\n",
      "Epoch 27: 100%|██████████| 280/280 [03:27<00:00,  1.35it/s, Loss 0.6808]\n",
      "Epoch 28: 100%|██████████| 280/280 [03:26<00:00,  1.36it/s, Loss 0.6589]\n",
      "Epoch 29: 100%|██████████| 280/280 [03:30<00:00,  1.33it/s, Loss 0.6385]\n",
      "Epoch 30: 100%|██████████| 280/280 [03:33<00:00,  1.31it/s, Loss 0.6186]\n",
      "Epoch 31: 100%|██████████| 280/280 [03:35<00:00,  1.30it/s, Loss 0.5995]\n",
      "Epoch 32: 100%|██████████| 280/280 [03:35<00:00,  1.30it/s, Loss 0.5805]\n",
      "Epoch 33: 100%|██████████| 280/280 [03:33<00:00,  1.31it/s, Loss 0.5623]\n",
      "Epoch 34: 100%|██████████| 280/280 [03:34<00:00,  1.31it/s, Loss 0.5451]\n",
      "Epoch 35: 100%|██████████| 280/280 [03:34<00:00,  1.31it/s, Loss 0.5274]\n",
      "Epoch 36: 100%|██████████| 280/280 [03:31<00:00,  1.32it/s, Loss 0.5111]\n",
      "Epoch 37: 100%|██████████| 280/280 [03:31<00:00,  1.32it/s, Loss 0.4943]\n",
      "Epoch 38: 100%|██████████| 280/280 [03:38<00:00,  1.28it/s, Loss 0.4789]\n",
      "Epoch 39: 100%|██████████| 280/280 [03:31<00:00,  1.33it/s, Loss 0.4644]\n",
      "Epoch 40: 100%|██████████| 280/280 [03:34<00:00,  1.31it/s, Loss 0.4499]\n",
      "Epoch 41: 100%|██████████| 280/280 [03:35<00:00,  1.30it/s, Loss 0.4358]\n",
      "Epoch 42: 100%|██████████| 280/280 [03:41<00:00,  1.26it/s, Loss 0.4239]\n",
      "Epoch 43: 100%|██████████| 280/280 [03:45<00:00,  1.24it/s, Loss 0.4111]\n",
      "Epoch 44: 100%|██████████| 280/280 [03:44<00:00,  1.25it/s, Loss 0.3985]\n",
      "Epoch 45: 100%|██████████| 280/280 [03:44<00:00,  1.25it/s, Loss 0.3859]\n",
      "Epoch 46: 100%|██████████| 280/280 [03:43<00:00,  1.25it/s, Loss 0.3737]\n",
      "Epoch 47: 100%|██████████| 280/280 [03:42<00:00,  1.26it/s, Loss 0.3624]\n",
      "Epoch 48: 100%|██████████| 280/280 [03:43<00:00,  1.26it/s, Loss 0.3515]\n",
      "Epoch 49: 100%|██████████| 280/280 [03:43<00:00,  1.25it/s, Loss 0.3417]\n",
      "Epoch 50: 100%|██████████| 280/280 [03:46<00:00,  1.24it/s, Loss 0.3322]\n"
     ]
    },
    {
     "data": {
      "text/plain": [
       "\"\\n    test_loss = 0\\n    \\n    idx_list = list(range(0, enc_val.shape[0], BATCH_SIZE))\\n    random.shuffle(idx_list)\\n    t = tqdm(idx_list)\\n\\n    for (test_batch, idx) in enumerate(t):\\n        test_batch_loss = eval_step(enc_val[idx:idx+BATCH_SIZE],\\n                                    dec_val[idx:idx+BATCH_SIZE],\\n                                    encoder,\\n                                    decoder,\\n                                    dec_tokenizer)\\n    \\n        test_loss += test_batch_loss\\n\\n        t.set_description_str('Test Epoch %2d' % (epoch + 1))\\n        t.set_postfix_str('Test Loss %.4f' % (test_loss.numpy() / (test_batch + 1)))\\n\""
      ]
     },
     "execution_count": 34,
     "metadata": {},
     "output_type": "execute_result"
    }
   ],
   "source": [
    "from tqdm import tqdm\n",
    "import random\n",
    "\n",
    "EPOCHS = 50\n",
    "\n",
    "for epoch in range(EPOCHS):\n",
    "    total_loss = 0\n",
    "    \n",
    "    idx_list = list(range(0,enc_tensor.shape[0], BATCH_SIZE))\n",
    "    random.shuffle(idx_list)\n",
    "    t = tqdm(idx_list)\n",
    "\n",
    "    for (batch, idx) in enumerate(t):\n",
    "        batch_loss = train_step(enc_tensor[idx:idx+BATCH_SIZE],\n",
    "                                dec_tensor[idx:idx+BATCH_SIZE],\n",
    "                                encoder,\n",
    "                                decoder,\n",
    "                                optimizer,\n",
    "                                dec_tokenizer)\n",
    "    \n",
    "        total_loss += batch_loss\n",
    "        \n",
    "        t.set_description_str('Epoch %2d' % (epoch + 1))\n",
    "        t.set_postfix_str('Loss %.4f' % (total_loss.numpy() / (batch + 1)))\n",
    "    \n",
    "'''\n",
    "    test_loss = 0\n",
    "    \n",
    "    idx_list = list(range(0, enc_val.shape[0], BATCH_SIZE))\n",
    "    random.shuffle(idx_list)\n",
    "    t = tqdm(idx_list)\n",
    "\n",
    "    for (test_batch, idx) in enumerate(t):\n",
    "        test_batch_loss = eval_step(enc_val[idx:idx+BATCH_SIZE],\n",
    "                                    dec_val[idx:idx+BATCH_SIZE],\n",
    "                                    encoder,\n",
    "                                    decoder,\n",
    "                                    dec_tokenizer)\n",
    "    \n",
    "        test_loss += test_batch_loss\n",
    "\n",
    "        t.set_description_str('Test Epoch %2d' % (epoch + 1))\n",
    "        t.set_postfix_str('Test Loss %.4f' % (test_loss.numpy() / (test_batch + 1)))\n",
    "'''    \n"
   ]
  },
  {
   "cell_type": "markdown",
   "id": "2eda95ed",
   "metadata": {},
   "source": [
    "### Attention Map"
   ]
  },
  {
   "cell_type": "code",
   "execution_count": null,
   "id": "5e7a3431",
   "metadata": {
    "scrolled": false
   },
   "outputs": [],
   "source": [
    "translate(\"일곱 명의 사망자가 발생했다.\", encoder, decoder)"
   ]
  },
  {
   "attachments": {
    "image.png": {
     "image/png": "[encoded data removed]"
    }
   },
   "cell_type": "markdown",
   "id": "a2bde6ff",
   "metadata": {},
   "source": [
    "## 결과\n",
    "### 1 result : Test Loss 5.1134\n",
    "- optimizer Adam \n",
    "- batch size = 128\n",
    "- sentence len = 25\n",
    "- epochs = 10\n",
    "- unit = 516\n",
    "- embedding dim = 516\n",
    "- 처음에는 아주 기본적인 전처리만 진행주었다. 영어는 공백을 기준으로 split을 해주는 정도만 진행했고 한국어도 통용적으로 사용되는 정규식 처리해준 것이 다였다. \n",
    "- loss는 안정적으로 떨어졌지만 좋은 성능을 내지는 못했다. epochs를 10번밖에 돌리지 않아서 더 돌려보려고 했지만 일단 loss값 자체가 높아서 데이터 처리가 더 필요하다는 생각이 들어서 영어와 한국어 모두 전처리를 더 해주었다. 영어는 문자 사이의 공백을 주고 ?,!같은 문자들을 제거하지 않았고 한국어 같은 경우에는 불용어 제거를 추가적으로 해주었다.\n",
    "![image.png](attachment:image.png)\n",
    "\n",
    "### 2 result :  Loss 4.6122\n",
    "- optimizer Adam\n",
    "- batch size = 128\n",
    "- sentence len = 25\n",
    "- epochs = 10\n",
    "- unit = 64\n",
    "- embedding dim = 256\n",
    "- 불용어를 좀 더 처리해보기로 했다. 한국어 불용어 논문을 참고해서 가져와서 사용했고 영어도 NLTK를 사용해서 불용어를 제거해주었다. maxlen도 최대가 20이기 때문에 20으로 설정해주었다\n",
    "\n",
    "### 3 result :0.3322\n",
    "- batch size = 64\n",
    "- sentence len = 50\n",
    "- epochs = 10\n",
    "- unit = 128\n",
    "- embedding dim = 256\n",
    "\n",
    "\n",
    "### 회고\n",
    "- 처음에 loss값이 높게 나와서 토큰화나 전처리에 더 집중하여 처리하려고 했다. 그런데 나중에 코드르 보니까 문장 길이가 40 이하인 데이터를 가져와 쓰는 부분에서 토큰 개수라고 생각하여 토큰 개수로 처리했다. 이 부분을 원래 의도처럼 문장길이가 40이하 데이터로 처리해주고 나니까 갑자기 loss가 확 떨어졌다. \n",
    "- loss가 떨어지는데 많이 기여한 부분이 생성할 문장의 길이였다. 처음에 20으로 했던 것을 50으로 늘려주니까 3.대로 시작하던 loss가 2.~1.대의 loss로 처음 시작을 했다. 너무 생성할 문장의 길이를 작게 잡은 것도 문제가 되었던 것 같다."
   ]
  },
  {
   "cell_type": "code",
   "execution_count": null,
   "id": "2c7b6007",
   "metadata": {},
   "outputs": [],
   "source": []
  }
 ],
 "metadata": {
  "kernelspec": {
   "display_name": "Python 3 (ipykernel)",
   "language": "python",
   "name": "python3"
  },
  "language_info": {
   "codemirror_mode": {
    "name": "ipython",
    "version": 3
   },
   "file_extension": ".py",
   "mimetype": "text/x-python",
   "name": "python",
   "nbconvert_exporter": "python",
   "pygments_lexer": "ipython3",
   "version": "3.9.7"
  }
 },
 "nbformat": 4,
 "nbformat_minor": 5
}
