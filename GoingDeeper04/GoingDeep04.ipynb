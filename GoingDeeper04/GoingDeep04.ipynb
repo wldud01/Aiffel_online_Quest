{
 "cells": [
  {
   "cell_type": "markdown",
   "id": "7a4e23c5",
   "metadata": {},
   "source": [
    "## Seq2seq으로 번역기 만들기\n",
    "- 데이터 전처리\n",
    "- 모델 설계\n",
    "- 훈련하기\n",
    "- 시각화\n"
   ]
  },
  {
   "cell_type": "code",
   "execution_count": 1,
   "id": "89e6d669",
   "metadata": {},
   "outputs": [
    {
     "data": {
      "text/plain": [
       "'/usr/share/fonts/truetype/nanum/NanumBarunGothic.ttf'"
      ]
     },
     "execution_count": 1,
     "metadata": {},
     "output_type": "execute_result"
    }
   ],
   "source": [
    "import matplotlib as mpl\n",
    "import matplotlib.pyplot as plt\n",
    " \n",
    "%config InlineBackend.figure_format = 'retina'\n",
    " \n",
    "# matplot은 한국어를 지원하지 않기 때문에 한글로 처리하는 작업\n",
    "import matplotlib.font_manager as fm\n",
    "fontpath = '/usr/share/fonts/truetype/nanum/NanumBarunGothic.ttf'\n",
    "font = fm.FontProperties(fname=fontpath, size=9)\n",
    "plt.rc('font', family='NanumBarunGothic') \n",
    "mpl.font_manager.findfont(font)"
   ]
  },
  {
   "cell_type": "markdown",
   "id": "e89ae14f",
   "metadata": {},
   "source": [
    "### 데이터 준비하기"
   ]
  },
  {
   "cell_type": "code",
   "execution_count": 2,
   "id": "d2d974cb",
   "metadata": {},
   "outputs": [
    {
     "name": "stdout",
     "output_type": "stream",
     "text": [
      "2.6.0\n"
     ]
    }
   ],
   "source": [
    "import tensorflow as tf\n",
    "import numpy as np\n",
    "import pandas as pd\n",
    "\n",
    "\n",
    "from sklearn.model_selection import train_test_split\n",
    "\n",
    "import matplotlib.ticker as ticker\n",
    "import matplotlib.pyplot as plt\n",
    "\n",
    "import time\n",
    "import re\n",
    "import os\n",
    "\n",
    "print(tf.__version__)"
   ]
  },
  {
   "cell_type": "code",
   "execution_count": 3,
   "id": "09c434ca",
   "metadata": {},
   "outputs": [
    {
     "name": "stdout",
     "output_type": "stream",
     "text": [
      "/aiffel/aiffel/korean-parallel-corpora\n"
     ]
    }
   ],
   "source": [
    "# tensforflow에서 제공하는 함수를 사용하여 데이터를 다운로드 받는다\n",
    "path = os.getenv(\"HOME\") + '/aiffel/korean-parallel-corpora'\n",
    "print(path)\n",
    "path_to_en = path +\"/korean-english-news-v1/korean-english-park.train.en\"\n",
    "path_to_kr = path +\"/korean-english-news-v1/korean-english-park.train.ko\""
   ]
  },
  {
   "cell_type": "code",
   "execution_count": 4,
   "id": "7eb28133",
   "metadata": {},
   "outputs": [
    {
     "name": "stdout",
     "output_type": "stream",
     "text": [
      "Data Size: 94123\n",
      "Example:\n",
      ">> Much of personal computing is about \"can you top this?\"\n",
      ">> Amid mounting pressure on North Korea to abandon its nuclear weapons program Japanese and North Korean diplomats have resumed talks on normalizing diplomatic relations.\n",
      ">> “Guard robots are used privately and professionally to detect intruders or fire,” Karlsson said.\n",
      ">> Authorities from the Water Resources Ministry plan to begin construction next year on the controversial and hugely expensive project.\n",
      ">> Researchers also have debated whether weight-training has a big impact on the heart, since it does not give the heart and lungs the kind of workout they get from aerobic activities such as brisk walking or running for at least 20 minutes.\n"
     ]
    }
   ],
   "source": [
    "# 데이터 형태 읽어오기\n",
    "with open(path_to_en,'r', encoding='utf-8') as f:\n",
    "    raw_en = f.read().splitlines()\n",
    "\n",
    "print(\"Data Size:\", len(raw_en))\n",
    "print(\"Example:\")\n",
    "\n",
    "for sen in raw_en[:100][::20]: print(\">>\", sen)"
   ]
  },
  {
   "cell_type": "code",
   "execution_count": 5,
   "id": "0c393207",
   "metadata": {},
   "outputs": [
    {
     "name": "stdout",
     "output_type": "stream",
     "text": [
      "Data Size: 94123\n",
      "Example:\n",
      ">> 개인용 컴퓨터 사용의 상당 부분은 \"이것보다 뛰어날 수 있느냐?\"\n",
      ">> 북한의 핵무기 계획을 포기하도록 하려는 압력이 거세지고 있는 가운데, 일본과 북한의 외교관들이 외교 관계를 정상화하려는 회담을 재개했다.\n",
      ">> \"경호 로보트가 침입자나 화재를 탐지하기 위해서 개인적으로, 그리고 전문적으로 사용되고 있습니다.\"\n",
      ">> 수자원부 당국은 논란이 되고 있고, 막대한 비용이 드는 이 사업에 대해 내년에 건설을 시작할 계획이다.\n",
      ">> 또한 근력 운동은 활발하게 걷는 것이나 최소한 20분 동안 뛰는 것과 같은 유산소 활동에서 얻는 운동 효과를 심장과 폐에 주지 않기 때문에, 연구학자들은 근력 운동이 심장에 큰 영향을 미치는지 여부에 대해 논쟁을 해왔다.\n"
     ]
    }
   ],
   "source": [
    "# 데이터 형태 읽어오기\n",
    "with open(path_to_kr,'r', encoding='utf-8') as f:\n",
    "    raw_ko = f.read().splitlines()\n",
    "\n",
    "print(\"Data Size:\", len(raw_ko))\n",
    "print(\"Example:\")\n",
    "\n",
    "for sen in raw_ko[:100][::20]: print(\">>\", sen)"
   ]
  },
  {
   "cell_type": "code",
   "execution_count": 6,
   "id": "fb59a565",
   "metadata": {},
   "outputs": [
    {
     "data": {
      "text/html": [
       "<div>\n",
       "<style scoped>\n",
       "    .dataframe tbody tr th:only-of-type {\n",
       "        vertical-align: middle;\n",
       "    }\n",
       "\n",
       "    .dataframe tbody tr th {\n",
       "        vertical-align: top;\n",
       "    }\n",
       "\n",
       "    .dataframe thead th {\n",
       "        text-align: right;\n",
       "    }\n",
       "</style>\n",
       "<table border=\"1\" class=\"dataframe\">\n",
       "  <thead>\n",
       "    <tr style=\"text-align: right;\">\n",
       "      <th></th>\n",
       "      <th>EN</th>\n",
       "      <th>KR</th>\n",
       "    </tr>\n",
       "  </thead>\n",
       "  <tbody>\n",
       "    <tr>\n",
       "      <th>0</th>\n",
       "      <td>Much of personal computing is about \"can you t...</td>\n",
       "      <td>개인용 컴퓨터 사용의 상당 부분은 \"이것보다 뛰어날 수 있느냐?\"</td>\n",
       "    </tr>\n",
       "    <tr>\n",
       "      <th>1</th>\n",
       "      <td>so a mention a few weeks ago about a rechargea...</td>\n",
       "      <td>모든 광마우스와 마찬가지 로 이 광마우스도 책상 위에 놓는 마우스 패드를 필요로 하...</td>\n",
       "    </tr>\n",
       "    <tr>\n",
       "      <th>2</th>\n",
       "      <td>Like all optical mice, But it also doesn't nee...</td>\n",
       "      <td>그러나 이것은 또한 책상도 필요로 하지 않는다.</td>\n",
       "    </tr>\n",
       "    <tr>\n",
       "      <th>3</th>\n",
       "      <td>uses gyroscopic sensors to control the cursor ...</td>\n",
       "      <td>79.95달러하는 이 최첨단 무선 광마우스는 허공에서 팔목, 팔, 그외에 어떤 부분...</td>\n",
       "    </tr>\n",
       "    <tr>\n",
       "      <th>4</th>\n",
       "      <td>Intelligence officials have revealed a spate o...</td>\n",
       "      <td>정보 관리들은 동남 아시아에서의 선박들에 대한 많은 (테러) 계획들이 실패로 돌아갔...</td>\n",
       "    </tr>\n",
       "    <tr>\n",
       "      <th>...</th>\n",
       "      <td>...</td>\n",
       "      <td>...</td>\n",
       "    </tr>\n",
       "    <tr>\n",
       "      <th>94118</th>\n",
       "      <td>””We are hoping to seize material evidence to ...</td>\n",
       "      <td>“우리는 3월 8일 김승연 회장과 그의 아들이 보복폭행에 가담한 혐의를 찾기 위해 ...</td>\n",
       "    </tr>\n",
       "    <tr>\n",
       "      <th>94119</th>\n",
       "      <td>” On Monday, police secured statements from si...</td>\n",
       "      <td>월요일 술집 종업원 6명은 김회장과 아들에게 폭행을 당했음을 진술했다고 경찰은 말했다.</td>\n",
       "    </tr>\n",
       "    <tr>\n",
       "      <th>94120</th>\n",
       "      <td>But the lack of material evidence is making it...</td>\n",
       "      <td>그러나 불충분한 증거 확보로 수사에 어려움이 있다.</td>\n",
       "    </tr>\n",
       "    <tr>\n",
       "      <th>94121</th>\n",
       "      <td>Kim and his son both deny the allegations.</td>\n",
       "      <td>김회장과 그의 아들은 보복폭행 혐의를 강력히 부인하고 있다.</td>\n",
       "    </tr>\n",
       "    <tr>\n",
       "      <th>94122</th>\n",
       "      <td>Police are planning to seek arrest warrants fo...</td>\n",
       "      <td>경찰은 김회장의 집무실에서 추가 증거를 찾은 이후 가능한 한 오늘 김회장과 아들을 ...</td>\n",
       "    </tr>\n",
       "  </tbody>\n",
       "</table>\n",
       "<p>94123 rows × 2 columns</p>\n",
       "</div>"
      ],
      "text/plain": [
       "                                                      EN  \\\n",
       "0      Much of personal computing is about \"can you t...   \n",
       "1      so a mention a few weeks ago about a rechargea...   \n",
       "2      Like all optical mice, But it also doesn't nee...   \n",
       "3      uses gyroscopic sensors to control the cursor ...   \n",
       "4      Intelligence officials have revealed a spate o...   \n",
       "...                                                  ...   \n",
       "94118  ””We are hoping to seize material evidence to ...   \n",
       "94119  ” On Monday, police secured statements from si...   \n",
       "94120  But the lack of material evidence is making it...   \n",
       "94121         Kim and his son both deny the allegations.   \n",
       "94122  Police are planning to seek arrest warrants fo...   \n",
       "\n",
       "                                                      KR  \n",
       "0                   개인용 컴퓨터 사용의 상당 부분은 \"이것보다 뛰어날 수 있느냐?\"  \n",
       "1      모든 광마우스와 마찬가지 로 이 광마우스도 책상 위에 놓는 마우스 패드를 필요로 하...  \n",
       "2                             그러나 이것은 또한 책상도 필요로 하지 않는다.  \n",
       "3      79.95달러하는 이 최첨단 무선 광마우스는 허공에서 팔목, 팔, 그외에 어떤 부분...  \n",
       "4      정보 관리들은 동남 아시아에서의 선박들에 대한 많은 (테러) 계획들이 실패로 돌아갔...  \n",
       "...                                                  ...  \n",
       "94118  “우리는 3월 8일 김승연 회장과 그의 아들이 보복폭행에 가담한 혐의를 찾기 위해 ...  \n",
       "94119   월요일 술집 종업원 6명은 김회장과 아들에게 폭행을 당했음을 진술했다고 경찰은 말했다.  \n",
       "94120                       그러나 불충분한 증거 확보로 수사에 어려움이 있다.  \n",
       "94121                  김회장과 그의 아들은 보복폭행 혐의를 강력히 부인하고 있다.  \n",
       "94122  경찰은 김회장의 집무실에서 추가 증거를 찾은 이후 가능한 한 오늘 김회장과 아들을 ...  \n",
       "\n",
       "[94123 rows x 2 columns]"
      ]
     },
     "execution_count": 6,
     "metadata": {},
     "output_type": "execute_result"
    }
   ],
   "source": [
    "df = pd.DataFrame(raw_en, columns = ['EN'])\n",
    "df['KR'] = np.array(raw_ko)\n",
    "df"
   ]
  },
  {
   "cell_type": "code",
   "execution_count": 7,
   "id": "240ab2a1",
   "metadata": {},
   "outputs": [
    {
     "data": {
      "text/html": [
       "<div>\n",
       "<style scoped>\n",
       "    .dataframe tbody tr th:only-of-type {\n",
       "        vertical-align: middle;\n",
       "    }\n",
       "\n",
       "    .dataframe tbody tr th {\n",
       "        vertical-align: top;\n",
       "    }\n",
       "\n",
       "    .dataframe thead th {\n",
       "        text-align: right;\n",
       "    }\n",
       "</style>\n",
       "<table border=\"1\" class=\"dataframe\">\n",
       "  <thead>\n",
       "    <tr style=\"text-align: right;\">\n",
       "      <th></th>\n",
       "      <th>EN</th>\n",
       "      <th>KR</th>\n",
       "    </tr>\n",
       "  </thead>\n",
       "  <tbody>\n",
       "    <tr>\n",
       "      <th>0</th>\n",
       "      <td>Much of personal computing is about \"can you t...</td>\n",
       "      <td>개인용 컴퓨터 사용의 상당 부분은 \"이것보다 뛰어날 수 있느냐?\"</td>\n",
       "    </tr>\n",
       "    <tr>\n",
       "      <th>1</th>\n",
       "      <td>so a mention a few weeks ago about a rechargea...</td>\n",
       "      <td>모든 광마우스와 마찬가지 로 이 광마우스도 책상 위에 놓는 마우스 패드를 필요로 하...</td>\n",
       "    </tr>\n",
       "    <tr>\n",
       "      <th>2</th>\n",
       "      <td>Like all optical mice, But it also doesn't nee...</td>\n",
       "      <td>그러나 이것은 또한 책상도 필요로 하지 않는다.</td>\n",
       "    </tr>\n",
       "    <tr>\n",
       "      <th>3</th>\n",
       "      <td>uses gyroscopic sensors to control the cursor ...</td>\n",
       "      <td>79.95달러하는 이 최첨단 무선 광마우스는 허공에서 팔목, 팔, 그외에 어떤 부분...</td>\n",
       "    </tr>\n",
       "    <tr>\n",
       "      <th>4</th>\n",
       "      <td>Intelligence officials have revealed a spate o...</td>\n",
       "      <td>정보 관리들은 동남 아시아에서의 선박들에 대한 많은 (테러) 계획들이 실패로 돌아갔...</td>\n",
       "    </tr>\n",
       "  </tbody>\n",
       "</table>\n",
       "</div>"
      ],
      "text/plain": [
       "                                                  EN  \\\n",
       "0  Much of personal computing is about \"can you t...   \n",
       "1  so a mention a few weeks ago about a rechargea...   \n",
       "2  Like all optical mice, But it also doesn't nee...   \n",
       "3  uses gyroscopic sensors to control the cursor ...   \n",
       "4  Intelligence officials have revealed a spate o...   \n",
       "\n",
       "                                                  KR  \n",
       "0               개인용 컴퓨터 사용의 상당 부분은 \"이것보다 뛰어날 수 있느냐?\"  \n",
       "1  모든 광마우스와 마찬가지 로 이 광마우스도 책상 위에 놓는 마우스 패드를 필요로 하...  \n",
       "2                         그러나 이것은 또한 책상도 필요로 하지 않는다.  \n",
       "3  79.95달러하는 이 최첨단 무선 광마우스는 허공에서 팔목, 팔, 그외에 어떤 부분...  \n",
       "4  정보 관리들은 동남 아시아에서의 선박들에 대한 많은 (테러) 계획들이 실패로 돌아갔...  "
      ]
     },
     "execution_count": 7,
     "metadata": {},
     "output_type": "execute_result"
    }
   ],
   "source": [
    "# 중복 데이터 제거하기\n",
    "cleaned_corpus = df.drop(df[df['EN'].duplicated()].index)\n",
    "cleaned_corpus.head()"
   ]
  },
  {
   "cell_type": "code",
   "execution_count": 8,
   "id": "9cb16e93",
   "metadata": {},
   "outputs": [
    {
     "data": {
      "text/plain": [
       "(75598, 2)"
      ]
     },
     "execution_count": 8,
     "metadata": {},
     "output_type": "execute_result"
    }
   ],
   "source": [
    "# 중복 데이터가 제거된 values cleaned corpus에 저장\n",
    "cleaned_corpus = cleaned_corpus[['EN','KR']].values\n",
    "cleaned_corpus.shape"
   ]
  },
  {
   "cell_type": "markdown",
   "id": "11a104b5",
   "metadata": {},
   "source": [
    "### Module"
   ]
  },
  {
   "cell_type": "code",
   "execution_count": 9,
   "id": "47a1568a",
   "metadata": {},
   "outputs": [],
   "source": [
    "# 토큰화\n",
    "def tokenize(corpus):\n",
    "    # out of vocabulary에 토큰 처리 - nan 값에 '0'으로 대체했기 때문에 처리한다\n",
    "    tokenizer = tf.keras.preprocessing.text.Tokenizer(filters ='')\n",
    "    tokenizer.fit_on_texts(corpus)\n",
    "\n",
    "    tensor = tokenizer.texts_to_sequences(corpus)\n",
    "\n",
    "    # padding을 해주고 maxlen은 문장 최대 길이로 설정했다\n",
    "    tensor = tf.keras.preprocessing.sequence.pad_sequences(tensor, padding='post',maxlen = 25)\n",
    "\n",
    "    return tensor, tokenizer"
   ]
  },
  {
   "cell_type": "code",
   "execution_count": 10,
   "id": "be5d3532",
   "metadata": {},
   "outputs": [],
   "source": [
    "# 데이터 전처리 함수 재정의\n",
    "def preprocessing(sentence, is_english=True, pattern =None):\n",
    "    sentence = sentence.lower()  # 소문자로 변환\n",
    "    # 한국어 정규식으로 전처리\n",
    "    sentence = re.sub(pattern, ' ', sentence) if not is_english else sentence\n",
    "    \n",
    "    # konlpy.tag에 Mecab 토크나이저 사용\n",
    "    # 영어인 경우 공백을 기준으로 토큰화\n",
    "    sentence = mecab.morphs(sentence) if not is_english else sentence.split()\n",
    "    \n",
    "    # 영어인 경우에 start, end 토큰\n",
    "    if is_english:\n",
    "        sentence = ['<start>'] + sentence + ['<end>']  # 영어일 경우에만 <start>와 <end> 토큰 추가\n",
    "\n",
    "    return sentence"
   ]
  },
  {
   "cell_type": "code",
   "execution_count": 11,
   "id": "ff6bf518",
   "metadata": {},
   "outputs": [],
   "source": [
    "# Bahdanau alignment score Attention\n",
    "class BahdanauAttention(tf.keras.layers.Layer):\n",
    "    def __init__(self, units):\n",
    "        super(BahdanauAttention, self).__init__()\n",
    "        self.w_dec = tf.keras.layers.Dense(units)\n",
    "        self.w_enc = tf.keras.layers.Dense(units)\n",
    "        self.w_com = tf.keras.layers.Dense(1)\n",
    "    \n",
    "    def call(self, h_enc, h_dec):\n",
    "        # h_enc shape: [batch x length x units]\n",
    "        # h_dec shape: [batch x units]\n",
    "        \n",
    "        #  W * h_enc\n",
    "        h_enc = self.w_enc(h_enc)\n",
    "        h_dec = tf.expand_dims(h_dec, 1)\n",
    "        # W * h_dec\n",
    "        h_dec = self.w_dec(h_dec)\n",
    "        \n",
    "        #  Bahdanau , w_com -> V.T\n",
    "        score = self.w_com(tf.nn.tanh(h_dec + h_enc))\n",
    "        \n",
    "        # alignment score 값을 확률분포로 만들어준다\n",
    "        attn = tf.nn.softmax(score, axis=1)\n",
    "        \n",
    "        # C = W(attn) * h_encoder\n",
    "        context_vec = attn * h_enc\n",
    "        # 출력된 값의 합을 구하면 각 timestep마다 주목해야 할 단어에 강조되는 context vector를 구할 수 있따.\n",
    "        context_vec = tf.reduce_sum(context_vec, axis=1)\n",
    "\n",
    "        return context_vec, attn\n",
    "\n",
    "    "
   ]
  },
  {
   "cell_type": "code",
   "execution_count": 12,
   "id": "0bbab3e0",
   "metadata": {},
   "outputs": [],
   "source": [
    "# GRU 인코더\n",
    "class Encoder(tf.keras.Model):\n",
    "    def __init__(self, vocab_size, embedding_dim, enc_units):\n",
    "        super(Encoder, self).__init__()\n",
    "        \n",
    "        self.enc_units = enc_units\n",
    "        self.embedding = tf.keras.layers.Embedding(vocab_size, embedding_dim)\n",
    "        self.gru = tf.keras.layers.GRU(enc_units,\n",
    "                                       return_sequences=True)\n",
    "        \n",
    "    def call(self, x):\n",
    "        out = self.embedding(x)\n",
    "        out = self.gru(out)\n",
    "        \n",
    "        return out"
   ]
  },
  {
   "cell_type": "code",
   "execution_count": 13,
   "id": "3eb88024",
   "metadata": {},
   "outputs": [],
   "source": [
    "# GRU 디코더\n",
    "class Decoder(tf.keras.Model):\n",
    "    def __init__(self, vocab_size, embedding_dim, dec_units):\n",
    "        super(Decoder, self).__init__()\n",
    "        self.dec_units = dec_units\n",
    "        self.embedding = tf.keras.layers.Embedding(vocab_size, embedding_dim)\n",
    "        self.gru = tf.keras.layers.GRU(dec_units,\n",
    "                                       return_sequences=True,\n",
    "                                       return_state=True)\n",
    "        self.masking = Masking(mask_value=0.0)\n",
    "        self.fc = tf.keras.layers.Dense(vocab_size)\n",
    "\n",
    "        self.attention = BahdanauAttention(self.dec_units)\n",
    "\n",
    "    def call(self, x, h_dec, enc_out):\n",
    "        context_vec, attn = self.attention(enc_out, h_dec)\n",
    "\n",
    "        out = self.embedding(x)\n",
    "        out = self.masking(out)\n",
    "        out = tf.concat([tf.expand_dims(context_vec, 1), out], axis=-1)\n",
    "        \n",
    "        out, h_dec = self.gru(out)\n",
    "        out = tf.reshape(out, (-1, out.shape[2]))\n",
    "        out = self.fc(out)\n",
    "\n",
    "        return out, h_dec, attn"
   ]
  },
  {
   "cell_type": "code",
   "execution_count": 14,
   "id": "70ac8b9e",
   "metadata": {},
   "outputs": [],
   "source": [
    "# 평가\n",
    "def evaluate(sentence, encoder, decoder):\n",
    "    attention = np.zeros((dec_train.shape[-1], enc_train.shape[-1]))\n",
    "    \n",
    "    sentence = preprocess_sentence(sentence)\n",
    "    inputs = enc_tokenizer.texts_to_sequences([sentence.split()])\n",
    "    inputs = tf.keras.preprocessing.sequence.pad_sequences(inputs,\n",
    "                                                           maxlen=enc_train.shape[-1],\n",
    "                                                           padding='post')\n",
    "\n",
    "    result = ''\n",
    "\n",
    "    enc_out = encoder(inputs)\n",
    "\n",
    "    dec_hidden = enc_out[:, -1]\n",
    "    dec_input = tf.expand_dims([dec_tokenizer.word_index['<start>']], 0)\n",
    "\n",
    "    for t in range(dec_train.shape[-1]):\n",
    "        predictions, dec_hidden, attention_weights = decoder(dec_input,\n",
    "                                                             dec_hidden,\n",
    "                                                             enc_out)\n",
    "\n",
    "        attention_weights = tf.reshape(attention_weights, (-1, ))\n",
    "        attention[t] = attention_weights.numpy()\n",
    "\n",
    "        predicted_id = \\\n",
    "        tf.argmax(tf.math.softmax(predictions, axis=-1)[0]).numpy()\n",
    "\n",
    "        result += dec_tokenizer.index_word[predicted_id] + ' '\n",
    "\n",
    "        if dec_tokenizer.index_word[predicted_id] == '<end>':\n",
    "            return result, sentence, attention\n",
    "\n",
    "        dec_input = tf.expand_dims([predicted_id], 0)\n",
    "\n",
    "    return result, sentence, attention\n",
    "\n",
    "# Attention map 시각화\n",
    "def plot_attention(attention, sentence, predicted_sentence):\n",
    "    fig = plt.figure(figsize=(10,10))\n",
    "    ax = fig.add_subplot(1, 1, 1)\n",
    "    ax.matshow(attention, cmap='viridis')\n",
    "\n",
    "    fontdict = {'fontsize': 14}\n",
    "\n",
    "    ax.set_xticklabels([''] + sentence, fontdict=fontdict, rotation=90)\n",
    "    ax.set_yticklabels([''] + predicted_sentence, fontdict=fontdict)\n",
    "\n",
    "    ax.xaxis.set_major_locator(ticker.MultipleLocator(1))\n",
    "    ax.yaxis.set_major_locator(ticker.MultipleLocator(1))\n",
    "\n",
    "    plt.show()\n",
    "\n",
    "# 번역\n",
    "def translate(sentence, encoder, decoder):\n",
    "    result, sentence, attention = evaluate(sentence, encoder, decoder)\n",
    "\n",
    "    print('Input: %s' % (sentence))\n",
    "    print('Predicted translation: {}'.format(result))\n",
    "    \n",
    "    attention = attention[:len(result.split()), :len(sentence.split())]\n",
    "    plot_attention(attention, sentence.split(), result.split(' '))\n",
    "\n",
    "\n"
   ]
  },
  {
   "cell_type": "code",
   "execution_count": 15,
   "id": "0ab9979b",
   "metadata": {},
   "outputs": [],
   "source": [
    "# 손실 함수 정의\n",
    "optimizer = tf.keras.optimizers.Adam()\n",
    "loss_object = tf.keras.losses.SparseCategoricalCrossentropy(\n",
    "    from_logits=True, reduction='none')\n",
    "\n",
    "def loss_function(real, pred):\n",
    "    mask = tf.math.logical_not(tf.math.equal(real, 0))\n",
    "    loss = loss_object(real, pred)\n",
    "    \n",
    "    mask = tf.cast(mask, dtype=loss.dtype)\n",
    "    loss *= mask\n",
    "    \n",
    "    return tf.reduce_mean(loss)\n"
   ]
  },
  {
   "cell_type": "code",
   "execution_count": 16,
   "id": "cb6f3e94",
   "metadata": {},
   "outputs": [],
   "source": [
    "# train step으로 loss를 계산한 후 반환하는 함수\n",
    "#@tf.function\n",
    "def train_step(src, tgt, encoder, decoder, optimizer, dec_tok):\n",
    "    bsz = src.shape[0]\n",
    "    loss = 0\n",
    "    \n",
    "    # 모든 연산을 기록하는 테이프 , 스텝의 최종 단계에서 미분 값을 구하는데 사용된다\n",
    "    with tf.GradientTape() as tape:\n",
    "        enc_out = encoder(src)\n",
    "        h_dec = enc_out[:, -1]\n",
    "        \n",
    "        dec_src = tf.expand_dims([dec_tok.word_index['<start>']] * bsz, 1)\n",
    "\n",
    "        for t in range(1, tgt.shape[1]):\n",
    "            pred, h_dec, _ = decoder(dec_src, h_dec, enc_out)\n",
    "\n",
    "            loss += loss_function(tgt[:, t], pred)\n",
    "            dec_src = tf.expand_dims(tgt[:, t], 1)\n",
    "        \n",
    "    batch_loss = (loss / int(tgt.shape[1]))\n",
    "\n",
    "    variables = encoder.trainable_variables + decoder.trainable_variables\n",
    "    gradients = tape.gradient(loss, variables)\n",
    "    optimizer.apply_gradients(zip(gradients, variables))\n",
    "    \n",
    "    return batch_loss\n"
   ]
  },
  {
   "cell_type": "code",
   "execution_count": 17,
   "id": "cbb3f244",
   "metadata": {},
   "outputs": [],
   "source": [
    "# Test loss \n",
    "#@tf.function\n",
    "def eval_step(src, tgt, encoder, decoder, dec_tok):\n",
    "    bsz = src.shape[0]\n",
    "    loss = 0\n",
    "\n",
    "    enc_out = encoder(src)\n",
    "\n",
    "    h_dec = enc_out[:, -1]\n",
    "    \n",
    "    dec_src = tf.expand_dims([dec_tok.word_index['<start>']] * bsz, 1)\n",
    "\n",
    "    for t in range(1, tgt.shape[1]):\n",
    "        pred, h_dec, _ = decoder(dec_src, h_dec, enc_out)\n",
    "\n",
    "        loss += loss_function(tgt[:, t], pred)\n",
    "        dec_src = tf.expand_dims(tgt[:, t], 1)\n",
    "        \n",
    "    batch_loss = (loss / int(tgt.shape[1]))\n",
    "    \n",
    "    return batch_loss"
   ]
  },
  {
   "cell_type": "code",
   "execution_count": 32,
   "id": "4879f332",
   "metadata": {},
   "outputs": [],
   "source": [
    "from konlpy.tag import Mecab\n",
    "\n",
    "mecab = Mecab()\n",
    "\n",
    "def preprocess_sentence(sentence, is_english=False, s_token=False, e_token=False):\n",
    "    if is_english:\n",
    "        sentence = sentence.lower().strip()\n",
    "        sentence = re.sub(r\"([?.!,])\", r\" \\1 \", sentence)\n",
    "        sentence = re.sub(r'[\" \"]+', \" \", sentence)\n",
    "        sentence = re.sub(r\"[^a-zA-Z?.!,]+\", \" \", sentence)\n",
    "        sentence = sentence.strip()\n",
    "    else:\n",
    "        sentence = sentence.strip()\n",
    "        sentence = re.sub(r\"[^ㄱ-ㅎㅏ-ㅣ가-힣 ]+\", \"\", sentence)\n",
    "        sentence = \" \".join(mecab.morphs(sentence))\n",
    "\n",
    "    if s_token:\n",
    "        sentence = '<start> ' + sentence\n",
    "\n",
    "    if e_token:\n",
    "        sentence += ' <end>'\n",
    "    \n",
    "    return sentence\n"
   ]
  },
  {
   "cell_type": "code",
   "execution_count": 18,
   "id": "68f546d2",
   "metadata": {},
   "outputs": [
    {
     "data": {
      "text/plain": [
       "'Much of personal computing is about \"can you top this?\"'"
      ]
     },
     "execution_count": 18,
     "metadata": {},
     "output_type": "execute_result"
    }
   ],
   "source": [
    "# data load 함수\n",
    "# 전처리, 토큰화 , train_test_split\n",
    "cleaned_corpus[0][0]"
   ]
  },
  {
   "cell_type": "markdown",
   "id": "bcd9f1db",
   "metadata": {},
   "source": [
    "### 데이터 준비"
   ]
  },
  {
   "cell_type": "code",
   "execution_count": 19,
   "id": "d6a64c38",
   "metadata": {},
   "outputs": [
    {
     "name": "stdout",
     "output_type": "stream",
     "text": [
      "['<start>', 'much', 'of', 'personal', 'computing', 'is', 'about', '\"can', 'you', 'top', 'this?\"', '<end>']\n",
      "['모든', '광', '마우스', '와', '마찬가지', '로', '이', '광', '마우스', '도', '책상', '위', '에', '놓', '는', '마우스', '패드', '를', '필요', '로', '하', '지', '않', '는다']\n"
     ]
    }
   ],
   "source": [
    "from konlpy.tag import Mecab\n",
    "# 데이터 상위 3만개 사용\n",
    "num_examples = 30000\n",
    "\n",
    "# 추가된 한글 정규식 및 Mecab 객체 생성\n",
    "kr_pattern = re.compile(\"[^ㄱ-ㅎㅏ-ㅣ가-힣 ]+\")\n",
    "mecab = Mecab()\n",
    "\n",
    "cleaned_corpus_en = [preprocessing(en[0], is_english=True) for en in cleaned_corpus]\n",
    "cleaned_corpus_kr = [preprocessing(kr[1], is_english=False, pattern=kr_pattern) for kr in cleaned_corpus]\n",
    "\n",
    "print(cleaned_corpus_en[0])\n",
    "print(cleaned_corpus_kr[1])"
   ]
  },
  {
   "cell_type": "code",
   "execution_count": 20,
   "id": "4d187603",
   "metadata": {},
   "outputs": [
    {
     "name": "stdout",
     "output_type": "stream",
     "text": [
      "['<start>', 'so', 'a', 'mention', 'a', 'few', 'weeks', 'ago', 'about', 'a', 'rechargeable', 'wireless', 'optical', 'mouse', 'brought', 'in', 'another', 'rechargeable,', 'wireless', 'mouse.', '<end>']\n",
      "['모든', '광', '마우스', '와', '마찬가지', '로', '이', '광', '마우스', '도', '책상', '위', '에', '놓', '는', '마우스', '패드', '를', '필요', '로', '하', '지', '않', '는다']\n"
     ]
    }
   ],
   "source": [
    "print(cleaned_corpus_en[1])\n",
    "print(cleaned_corpus_kr[1])"
   ]
  },
  {
   "cell_type": "code",
   "execution_count": 21,
   "id": "eb6e402b",
   "metadata": {},
   "outputs": [
    {
     "name": "stdout",
     "output_type": "stream",
     "text": [
      "75598\n",
      "75598\n"
     ]
    }
   ],
   "source": [
    "print(len(cleaned_corpus_en))\n",
    "print(len(cleaned_corpus_kr))"
   ]
  },
  {
   "cell_type": "code",
   "execution_count": 22,
   "id": "7b8f95c1",
   "metadata": {},
   "outputs": [],
   "source": [
    "# 토큰 길이가 40 이하인 데이터 선별\n",
    "eng_corpus = [en for i,(en,kr) in enumerate(zip(cleaned_corpus_en,cleaned_corpus_kr))  if len(kr) < 40]\n",
    "kor_corpus = [kr for i,(en,kr) in enumerate(zip(cleaned_corpus_en,cleaned_corpus_kr))  if len(kr) < 40]\n",
    "\n",
    "\n",
    "#eng_corpus_df = pd.DataFrame(cleaned_corpus_en)\n",
    "#kor_corpus_df = pd.DataFrame(cleaned_corpus_kr)\n",
    "##kor_corpus_v = kor_corpus_df.drop(pd.DataFrame(kor_corpus).index).fillna('0').values.tolist()\n",
    "#eng_corpus_v = eng_corpus_df.drop(pd.DataFrame(kor_corpus).index).fillna('0').values.tolist()"
   ]
  },
  {
   "cell_type": "code",
   "execution_count": 23,
   "id": "ebf0de66",
   "metadata": {},
   "outputs": [
    {
     "name": "stdout",
     "output_type": "stream",
     "text": [
      "Number of English Sentences: 64515\n",
      "Number of Korean Sentences: 64515\n"
     ]
    }
   ],
   "source": [
    "# 결과 확인\n",
    "print(\"Number of English Sentences:\", len(eng_corpus))\n",
    "print(\"Number of Korean Sentences:\", len(kor_corpus))"
   ]
  },
  {
   "cell_type": "code",
   "execution_count": 24,
   "id": "8dfaabae",
   "metadata": {},
   "outputs": [
    {
     "data": {
      "text/plain": [
       "['<start>',\n",
       " 'so',\n",
       " 'a',\n",
       " 'mention',\n",
       " 'a',\n",
       " 'few',\n",
       " 'weeks',\n",
       " 'ago',\n",
       " 'about',\n",
       " 'a',\n",
       " 'rechargeable',\n",
       " 'wireless',\n",
       " 'optical',\n",
       " 'mouse',\n",
       " 'brought',\n",
       " 'in',\n",
       " 'another',\n",
       " 'rechargeable,',\n",
       " 'wireless',\n",
       " 'mouse.',\n",
       " '<end>']"
      ]
     },
     "execution_count": 24,
     "metadata": {},
     "output_type": "execute_result"
    }
   ],
   "source": [
    "eng_corpus[1]"
   ]
  },
  {
   "cell_type": "code",
   "execution_count": 25,
   "id": "0a7b9d8c",
   "metadata": {},
   "outputs": [
    {
     "data": {
      "text/plain": [
       "['모든',\n",
       " '광',\n",
       " '마우스',\n",
       " '와',\n",
       " '마찬가지',\n",
       " '로',\n",
       " '이',\n",
       " '광',\n",
       " '마우스',\n",
       " '도',\n",
       " '책상',\n",
       " '위',\n",
       " '에',\n",
       " '놓',\n",
       " '는',\n",
       " '마우스',\n",
       " '패드',\n",
       " '를',\n",
       " '필요',\n",
       " '로',\n",
       " '하',\n",
       " '지',\n",
       " '않',\n",
       " '는다']"
      ]
     },
     "execution_count": 25,
     "metadata": {},
     "output_type": "execute_result"
    }
   ],
   "source": [
    "kor_corpus[1]"
   ]
  },
  {
   "cell_type": "markdown",
   "id": "928f217f",
   "metadata": {},
   "source": [
    "### 데이터 전처리 : 토큰화"
   ]
  },
  {
   "cell_type": "code",
   "execution_count": 26,
   "id": "44850c05",
   "metadata": {},
   "outputs": [
    {
     "name": "stdout",
     "output_type": "stream",
     "text": [
      "Encoder Train: (51612, 25)\n",
      "Decoder Train: (51612, 25)\n",
      "Encoder Validation: (12903, 25)\n",
      "Decoder Validation: (12903, 25)\n"
     ]
    }
   ],
   "source": [
    "# Tokenize the preprocessed sentences\n",
    "enc_tensor, enc_tokenizer =  tokenize(kor_corpus)\n",
    "dec_tensor, dec_tokenizer = tokenize(eng_corpus)\n",
    "\n",
    "# Split the data into training and validation sets\n",
    "enc_train, enc_val, dec_train, dec_val = train_test_split(enc_tensor, dec_tensor, test_size=0.2)\n",
    "\n",
    "# Display the shapes of the training and valida|tion sets\n",
    "print(\"Encoder Train:\", enc_train.shape)\n",
    "print(\"Decoder Train:\", dec_train.shape)\n",
    "\n",
    "# You can also display the shapes of the validation sets if needed\n",
    "print(\"Encoder Validation:\", enc_val.shape)\n",
    "print(\"Decoder Validation:\", dec_val.shape)\n"
   ]
  },
  {
   "cell_type": "code",
   "execution_count": 27,
   "id": "cee5bbd7",
   "metadata": {},
   "outputs": [
    {
     "name": "stdout",
     "output_type": "stream",
     "text": [
      "38177 88643\n"
     ]
    }
   ],
   "source": [
    "print(len(enc_tokenizer.index_word),\n",
    "len(dec_tokenizer.index_word) + 1)"
   ]
  },
  {
   "cell_type": "markdown",
   "id": "b23353bd",
   "metadata": {},
   "source": [
    "### 모델 설계"
   ]
  },
  {
   "cell_type": "code",
   "execution_count": 28,
   "id": "41fb62d9",
   "metadata": {
    "scrolled": false
   },
   "outputs": [
    {
     "name": "stdout",
     "output_type": "stream",
     "text": [
      "Encoder Output: (128, 25, 64)\n",
      "Decoder Output: (128, 88643)\n",
      "Decoder Hidden State: (128, 64)\n",
      "Attention: (128, 25, 1)\n"
     ]
    }
   ],
   "source": [
    "from tensorflow.keras.layers import Masking\n",
    "# 코드를 실행하세요.\n",
    "BATCH_SIZE     = 128\n",
    "SRC_VOCAB_SIZE = len(enc_tokenizer.index_word) + 1\n",
    "TGT_VOCAB_SIZE = len(dec_tokenizer.index_word) + 1\n",
    "\n",
    "units         = 64\n",
    "embedding_dim = 256\n",
    "\n",
    "# GRU Encoder 생성\n",
    "encoder = Encoder(SRC_VOCAB_SIZE, embedding_dim, units)\n",
    "# GRU Decoder 생성\n",
    "decoder = Decoder(TGT_VOCAB_SIZE, embedding_dim, units)\n",
    "\n",
    "# sample input\n",
    "sequence_len = 25\n",
    "\n",
    "sample_enc = tf.random.uniform((BATCH_SIZE, sequence_len))\n",
    "# Encoder Output\n",
    "sample_output = encoder(sample_enc)\n",
    "\n",
    "print ('Encoder Output:', sample_output.shape)\n",
    "\n",
    "sample_state = tf.random.uniform((BATCH_SIZE, units))\n",
    "# Decoder output - decoder hidden state, attention\n",
    "sample_logits, h_dec, attn = decoder(tf.random.uniform((BATCH_SIZE, 1)),\n",
    "                                     sample_state, sample_output)\n",
    "\n",
    "print ('Decoder Output:', sample_logits.shape)\n",
    "print ('Decoder Hidden State:', h_dec.shape)\n",
    "print ('Attention:', attn.shape)"
   ]
  },
  {
   "cell_type": "markdown",
   "id": "947b291f",
   "metadata": {},
   "source": [
    "### 훈련하기 - Optimizer & Loss"
   ]
  },
  {
   "cell_type": "code",
   "execution_count": 29,
   "id": "6af6a2a5",
   "metadata": {},
   "outputs": [
    {
     "name": "stdout",
     "output_type": "stream",
     "text": [
      "[    2   119  1138   172     6 31643  3308     7     1  2598  1127  6134\n",
      "     3     0     0     0     0     0     0     0     0     0     0     0\n",
      "     0]\n",
      "[2265 1701   14    6    5 1252 1774 1668    4  375   19 1358  388    1\n",
      "    0    0    0    0    0    0    0    0    0    0    0]\n"
     ]
    }
   ],
   "source": [
    "print(dec_train[1])\n",
    "print(enc_train[1])"
   ]
  },
  {
   "cell_type": "code",
   "execution_count": 30,
   "id": "05ff823f",
   "metadata": {},
   "outputs": [
    {
     "name": "stderr",
     "output_type": "stream",
     "text": [
      "Epoch  1: 100%|██████████| 404/404 [02:36<00:00,  2.58it/s, Loss 6.1323]\n",
      "Test Epoch  1: 100%|██████████| 101/101 [00:21<00:00,  4.74it/s, Test Loss 5.8963]\n",
      "Epoch  2: 100%|██████████| 404/404 [02:36<00:00,  2.59it/s, Loss 5.8410]\n",
      "Test Epoch  2: 100%|██████████| 101/101 [00:21<00:00,  4.75it/s, Test Loss 5.9146]\n",
      "Epoch  3: 100%|██████████| 404/404 [02:39<00:00,  2.53it/s, Loss 5.6718]\n",
      "Test Epoch  3: 100%|██████████| 101/101 [00:21<00:00,  4.74it/s, Test Loss 5.6643]\n",
      "Epoch  4: 100%|██████████| 404/404 [02:41<00:00,  2.51it/s, Loss 5.4255]\n",
      "Test Epoch  4: 100%|██████████| 101/101 [00:21<00:00,  4.67it/s, Test Loss 5.4923]\n",
      "Epoch  5: 100%|██████████| 404/404 [02:41<00:00,  2.50it/s, Loss 5.2206]\n",
      "Test Epoch  5: 100%|██████████| 101/101 [00:21<00:00,  4.77it/s, Test Loss 5.3776]\n",
      "Epoch  6: 100%|██████████| 404/404 [02:40<00:00,  2.51it/s, Loss 5.0572]\n",
      "Test Epoch  6: 100%|██████████| 101/101 [00:21<00:00,  4.76it/s, Test Loss 5.2906]\n",
      "Epoch  7: 100%|██████████| 404/404 [02:41<00:00,  2.51it/s, Loss 4.9171]\n",
      "Test Epoch  7: 100%|██████████| 101/101 [00:21<00:00,  4.73it/s, Test Loss 5.2205]\n",
      "Epoch  8: 100%|██████████| 404/404 [02:41<00:00,  2.50it/s, Loss 4.7910]\n",
      "Test Epoch  8: 100%|██████████| 101/101 [00:21<00:00,  4.73it/s, Test Loss 5.1748]\n",
      "Epoch  9: 100%|██████████| 404/404 [02:41<00:00,  2.50it/s, Loss 4.6768]\n",
      "Test Epoch  9: 100%|██████████| 101/101 [00:21<00:00,  4.74it/s, Test Loss 5.1402]\n",
      "Epoch 10: 100%|██████████| 404/404 [02:42<00:00,  2.48it/s, Loss 4.5688]\n",
      "Test Epoch 10: 100%|██████████| 101/101 [00:21<00:00,  4.71it/s, Test Loss 5.1134]\n"
     ]
    }
   ],
   "source": [
    "from tqdm import tqdm\n",
    "import random\n",
    "\n",
    "EPOCHS = 10\n",
    "\n",
    "for epoch in range(EPOCHS):\n",
    "    total_loss = 0\n",
    "    \n",
    "    idx_list = list(range(0, enc_train.shape[0], BATCH_SIZE))\n",
    "    random.shuffle(idx_list)\n",
    "    t = tqdm(idx_list)\n",
    "\n",
    "    for (batch, idx) in enumerate(t):\n",
    "        batch_loss = train_step(enc_train[idx:idx+BATCH_SIZE],\n",
    "                                dec_train[idx:idx+BATCH_SIZE],\n",
    "                                encoder,\n",
    "                                decoder,\n",
    "                                optimizer,\n",
    "                                dec_tokenizer)\n",
    "    \n",
    "        total_loss += batch_loss\n",
    "        \n",
    "        t.set_description_str('Epoch %2d' % (epoch + 1))\n",
    "        t.set_postfix_str('Loss %.4f' % (total_loss.numpy() / (batch + 1)))\n",
    "    \n",
    "    \n",
    "    test_loss = 0\n",
    "    \n",
    "    idx_list = list(range(0, enc_val.shape[0], BATCH_SIZE))\n",
    "    random.shuffle(idx_list)\n",
    "    t = tqdm(idx_list)\n",
    "\n",
    "    for (test_batch, idx) in enumerate(t):\n",
    "        test_batch_loss = eval_step(enc_val[idx:idx+BATCH_SIZE],\n",
    "                                    dec_val[idx:idx+BATCH_SIZE],\n",
    "                                    encoder,\n",
    "                                    decoder,\n",
    "                                    dec_tokenizer)\n",
    "    \n",
    "        test_loss += test_batch_loss\n",
    "\n",
    "        t.set_description_str('Test Epoch %2d' % (epoch + 1))\n",
    "        t.set_postfix_str('Test Loss %.4f' % (test_loss.numpy() / (test_batch + 1)))"
   ]
  },
  {
   "cell_type": "markdown",
   "id": "35a86992",
   "metadata": {},
   "source": [
    "### Attention Map"
   ]
  },
  {
   "cell_type": "code",
   "execution_count": 36,
   "id": "38e95bf4",
   "metadata": {},
   "outputs": [
    {
     "name": "stdout",
     "output_type": "stream",
     "text": [
      "Input: 첫 번 째 로 사망자 가 발생 했 다\n",
      "Predicted translation: the first time in the first time in the first time in the first time in the first time in the first time in the \n"
     ]
    },
    {
     "name": "stderr",
     "output_type": "stream",
     "text": [
      "/tmp/ipykernel_47/247148186.py:46: UserWarning: FixedFormatter should only be used together with FixedLocator\n",
      "  ax.set_xticklabels([''] + sentence, fontdict=fontdict, rotation=90)\n",
      "/tmp/ipykernel_47/247148186.py:47: UserWarning: FixedFormatter should only be used together with FixedLocator\n",
      "  ax.set_yticklabels([''] + predicted_sentence, fontdict=fontdict)\n"
     ]
    },
    {
     "data": {
      "image/png": "[encoded data removed]",
      "text/plain": [
       "<Figure size 720x720 with 1 Axes>"
      ]
     },
     "metadata": {
      "image/png": {
       "height": 606,
       "width": 245
      },
      "needs_background": "light"
     },
     "output_type": "display_data"
    }
   ],
   "source": [
    "translate(\"첫 번째로 사망자가 발생했다.\", encoder, decoder)"
   ]
  },
  {
   "cell_type": "code",
   "execution_count": null,
   "id": "232e99ff",
   "metadata": {},
   "outputs": [],
   "source": []
  }
 ],
 "metadata": {
  "kernelspec": {
   "display_name": "Python 3 (ipykernel)",
   "language": "python",
   "name": "python3"
  },
  "language_info": {
   "codemirror_mode": {
    "name": "ipython",
    "version": 3
   },
   "file_extension": ".py",
   "mimetype": "text/x-python",
   "name": "python",
   "nbconvert_exporter": "python",
   "pygments_lexer": "ipython3",
   "version": "3.9.7"
  }
 },
 "nbformat": 4,
 "nbformat_minor": 5
}
